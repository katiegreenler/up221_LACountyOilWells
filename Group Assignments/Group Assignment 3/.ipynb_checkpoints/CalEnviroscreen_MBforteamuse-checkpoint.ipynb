{
 "cells": [
  {
   "cell_type": "markdown",
   "id": "b5ccf752-44bc-4385-9358-3416adef0b70",
   "metadata": {},
   "source": [
    "## CalEnviroScreen\n",
    "Looking again at CalEnviroscreen, this time through the CSV rather than the shapefile data."
   ]
  },
  {
   "cell_type": "markdown",
   "id": "b23acf72-b693-4807-8441-a5f74086b633",
   "metadata": {},
   "source": [
    "# Setting up the data"
   ]
  },
  {
   "cell_type": "markdown",
   "id": "bba3599d-f662-4d3b-b5a2-23d0726c4599",
   "metadata": {},
   "source": [
    "Started by importing pandas and geopandas."
   ]
  },
  {
   "cell_type": "code",
   "execution_count": 1,
   "id": "b06f1597-e02e-47f8-a1cd-4d0e8d6e87e4",
   "metadata": {},
   "outputs": [],
   "source": [
    "import pandas as pd\n",
    "import geopandas as gpd"
   ]
  },
  {
   "cell_type": "markdown",
   "id": "03f3ef43-bb4c-4c36-a4c1-81ef25661f96",
   "metadata": {},
   "source": [
    "I then ask pandas to read the file and converted a few of the location variables to strings in order to allow for some of the sorting and to zfill the information."
   ]
  },
  {
   "cell_type": "code",
   "execution_count": 2,
   "id": "7f80a153-4e7a-4fcc-ba08-76acace5bc59",
   "metadata": {},
   "outputs": [
    {
     "data": {
      "text/html": [
       "<div>\n",
       "<style scoped>\n",
       "    .dataframe tbody tr th:only-of-type {\n",
       "        vertical-align: middle;\n",
       "    }\n",
       "\n",
       "    .dataframe tbody tr th {\n",
       "        vertical-align: top;\n",
       "    }\n",
       "\n",
       "    .dataframe thead th {\n",
       "        text-align: right;\n",
       "    }\n",
       "</style>\n",
       "<table border=\"1\" class=\"dataframe\">\n",
       "  <thead>\n",
       "    <tr style=\"text-align: right;\">\n",
       "      <th></th>\n",
       "      <th>Census Tract</th>\n",
       "      <th>Total Population</th>\n",
       "      <th>California County</th>\n",
       "      <th>ZIP</th>\n",
       "      <th>Approximate Location</th>\n",
       "      <th>Longitude</th>\n",
       "      <th>Latitude</th>\n",
       "      <th>CES 4.0 Score</th>\n",
       "      <th>CES 4.0 Percentile</th>\n",
       "      <th>CES 4.0 Percentile Range</th>\n",
       "      <th>...</th>\n",
       "      <th>Linguistic Isolation Pctl</th>\n",
       "      <th>Poverty</th>\n",
       "      <th>Poverty Pctl</th>\n",
       "      <th>Unemployment</th>\n",
       "      <th>Unemployment Pctl</th>\n",
       "      <th>Housing Burden</th>\n",
       "      <th>Housing Burden Pctl</th>\n",
       "      <th>Pop. Char.</th>\n",
       "      <th>Pop. Char. Score</th>\n",
       "      <th>Pop. Char. Pctl</th>\n",
       "    </tr>\n",
       "  </thead>\n",
       "  <tbody>\n",
       "    <tr>\n",
       "      <th>0</th>\n",
       "      <td>6019001100</td>\n",
       "      <td>2780</td>\n",
       "      <td>Fresno</td>\n",
       "      <td>93706</td>\n",
       "      <td>Fresno</td>\n",
       "      <td>-119.781696</td>\n",
       "      <td>36.709695</td>\n",
       "      <td>93.18</td>\n",
       "      <td>100.00</td>\n",
       "      <td>95-100% (highest scores)</td>\n",
       "      <td>...</td>\n",
       "      <td>79.37</td>\n",
       "      <td>76.0</td>\n",
       "      <td>98.92</td>\n",
       "      <td>12.8</td>\n",
       "      <td>93.83</td>\n",
       "      <td>30.3</td>\n",
       "      <td>91.04</td>\n",
       "      <td>93.16</td>\n",
       "      <td>9.66</td>\n",
       "      <td>99.72</td>\n",
       "    </tr>\n",
       "    <tr>\n",
       "      <th>1</th>\n",
       "      <td>6077000700</td>\n",
       "      <td>4680</td>\n",
       "      <td>San Joaquin</td>\n",
       "      <td>95206</td>\n",
       "      <td>Stockton</td>\n",
       "      <td>-121.287873</td>\n",
       "      <td>37.943173</td>\n",
       "      <td>86.65</td>\n",
       "      <td>99.99</td>\n",
       "      <td>95-100% (highest scores)</td>\n",
       "      <td>...</td>\n",
       "      <td>95.53</td>\n",
       "      <td>73.2</td>\n",
       "      <td>98.39</td>\n",
       "      <td>19.8</td>\n",
       "      <td>99.21</td>\n",
       "      <td>31.2</td>\n",
       "      <td>92.28</td>\n",
       "      <td>93.17</td>\n",
       "      <td>9.66</td>\n",
       "      <td>99.74</td>\n",
       "    </tr>\n",
       "    <tr>\n",
       "      <th>2</th>\n",
       "      <td>6037204920</td>\n",
       "      <td>2751</td>\n",
       "      <td>Los Angeles</td>\n",
       "      <td>90023</td>\n",
       "      <td>Los Angeles</td>\n",
       "      <td>-118.197497</td>\n",
       "      <td>34.017500</td>\n",
       "      <td>82.39</td>\n",
       "      <td>99.97</td>\n",
       "      <td>95-100% (highest scores)</td>\n",
       "      <td>...</td>\n",
       "      <td>81.55</td>\n",
       "      <td>62.6</td>\n",
       "      <td>93.39</td>\n",
       "      <td>6.4</td>\n",
       "      <td>61.53</td>\n",
       "      <td>20.3</td>\n",
       "      <td>63.97</td>\n",
       "      <td>83.75</td>\n",
       "      <td>8.69</td>\n",
       "      <td>95.79</td>\n",
       "    </tr>\n",
       "    <tr>\n",
       "      <th>3</th>\n",
       "      <td>6019000700</td>\n",
       "      <td>3664</td>\n",
       "      <td>Fresno</td>\n",
       "      <td>93706</td>\n",
       "      <td>Fresno</td>\n",
       "      <td>-119.827707</td>\n",
       "      <td>36.734535</td>\n",
       "      <td>81.33</td>\n",
       "      <td>99.96</td>\n",
       "      <td>95-100% (highest scores)</td>\n",
       "      <td>...</td>\n",
       "      <td>78.71</td>\n",
       "      <td>65.7</td>\n",
       "      <td>95.35</td>\n",
       "      <td>15.7</td>\n",
       "      <td>97.35</td>\n",
       "      <td>35.4</td>\n",
       "      <td>96.41</td>\n",
       "      <td>94.64</td>\n",
       "      <td>9.82</td>\n",
       "      <td>99.89</td>\n",
       "    </tr>\n",
       "    <tr>\n",
       "      <th>4</th>\n",
       "      <td>6019000200</td>\n",
       "      <td>2689</td>\n",
       "      <td>Fresno</td>\n",
       "      <td>93706</td>\n",
       "      <td>Fresno</td>\n",
       "      <td>-119.805504</td>\n",
       "      <td>36.735491</td>\n",
       "      <td>80.75</td>\n",
       "      <td>99.95</td>\n",
       "      <td>95-100% (highest scores)</td>\n",
       "      <td>...</td>\n",
       "      <td>86.56</td>\n",
       "      <td>72.7</td>\n",
       "      <td>98.30</td>\n",
       "      <td>13.7</td>\n",
       "      <td>95.29</td>\n",
       "      <td>32.7</td>\n",
       "      <td>94.16</td>\n",
       "      <td>95.40</td>\n",
       "      <td>9.90</td>\n",
       "      <td>99.95</td>\n",
       "    </tr>\n",
       "  </tbody>\n",
       "</table>\n",
       "<p>5 rows × 58 columns</p>\n",
       "</div>"
      ],
      "text/plain": [
       "  Census Tract  Total Population California County    ZIP  \\\n",
       "0   6019001100              2780           Fresno   93706   \n",
       "1   6077000700              4680       San Joaquin  95206   \n",
       "2   6037204920              2751       Los Angeles  90023   \n",
       "3   6019000700              3664           Fresno   93706   \n",
       "4   6019000200              2689           Fresno   93706   \n",
       "\n",
       "  Approximate Location   Longitude   Latitude  CES 4.0 Score  \\\n",
       "0               Fresno -119.781696  36.709695          93.18   \n",
       "1             Stockton -121.287873  37.943173          86.65   \n",
       "2          Los Angeles -118.197497  34.017500          82.39   \n",
       "3               Fresno -119.827707  36.734535          81.33   \n",
       "4               Fresno -119.805504  36.735491          80.75   \n",
       "\n",
       "   CES 4.0 Percentile  CES 4.0 Percentile Range  ...  \\\n",
       "0              100.00  95-100% (highest scores)  ...   \n",
       "1               99.99  95-100% (highest scores)  ...   \n",
       "2               99.97  95-100% (highest scores)  ...   \n",
       "3               99.96  95-100% (highest scores)  ...   \n",
       "4               99.95  95-100% (highest scores)  ...   \n",
       "\n",
       "   Linguistic Isolation Pctl  Poverty  Poverty Pctl  Unemployment  \\\n",
       "0                      79.37     76.0         98.92          12.8   \n",
       "1                      95.53     73.2         98.39          19.8   \n",
       "2                      81.55     62.6         93.39           6.4   \n",
       "3                      78.71     65.7         95.35          15.7   \n",
       "4                      86.56     72.7         98.30          13.7   \n",
       "\n",
       "   Unemployment Pctl  Housing Burden  Housing Burden Pctl  Pop. Char.   \\\n",
       "0              93.83            30.3                91.04        93.16   \n",
       "1              99.21            31.2                92.28        93.17   \n",
       "2              61.53            20.3                63.97        83.75   \n",
       "3              97.35            35.4                96.41        94.64   \n",
       "4              95.29            32.7                94.16        95.40   \n",
       "\n",
       "   Pop. Char. Score  Pop. Char. Pctl  \n",
       "0              9.66            99.72  \n",
       "1              9.66            99.74  \n",
       "2              8.69            95.79  \n",
       "3              9.82            99.89  \n",
       "4              9.90            99.95  \n",
       "\n",
       "[5 rows x 58 columns]"
      ]
     },
     "execution_count": 2,
     "metadata": {},
     "output_type": "execute_result"
    }
   ],
   "source": [
    "df = pd.read_csv('Data/Calenviroscreen4.csv',\n",
    "    dtype=\n",
    "    {\n",
    "        'Census Tract':str,\n",
    "        'California County':str,\n",
    "        'Approximate Location': str\n",
    "    }\n",
    ")\n",
    "df.head()"
   ]
  },
  {
   "cell_type": "markdown",
   "id": "cb6cc439-b548-4b9b-8ac9-b1ad8f082152",
   "metadata": {},
   "source": [
    "Above, we see that the leading zero is missing from the data, so I zfilled the information. "
   ]
  },
  {
   "cell_type": "code",
   "execution_count": 3,
   "id": "8d5ca39e-32c4-47ed-98bf-15d384d0b9e2",
   "metadata": {},
   "outputs": [],
   "source": [
    "df['Census Tract'] = df['Census Tract'].str.zfill(11)"
   ]
  },
  {
   "cell_type": "code",
   "execution_count": 4,
   "id": "42f889e3-37ea-4d3d-8af8-932499543b2a",
   "metadata": {},
   "outputs": [
    {
     "name": "stdout",
     "output_type": "stream",
     "text": [
      "<class 'pandas.core.frame.DataFrame'>\n",
      "RangeIndex: 8035 entries, 0 to 8034\n",
      "Data columns (total 58 columns):\n",
      " #   Column                       Non-Null Count  Dtype  \n",
      "---  ------                       --------------  -----  \n",
      " 0   Census Tract                 8035 non-null   object \n",
      " 1   Total Population             8035 non-null   int64  \n",
      " 2   California County            8035 non-null   object \n",
      " 3   ZIP                          8035 non-null   int64  \n",
      " 4   Approximate Location         8035 non-null   object \n",
      " 5   Longitude                    8035 non-null   float64\n",
      " 6   Latitude                     8035 non-null   float64\n",
      " 7   CES 4.0 Score                7932 non-null   float64\n",
      " 8   CES 4.0 Percentile           7932 non-null   float64\n",
      " 9   CES 4.0 Percentile Range     7932 non-null   object \n",
      " 10  Ozone                        8035 non-null   float64\n",
      " 11  Ozone Pctl                   8035 non-null   float64\n",
      " 12  PM2.5                        8035 non-null   float64\n",
      " 13  PM2.5 Pctl                   8035 non-null   float64\n",
      " 14  Diesel PM                    8035 non-null   float64\n",
      " 15  Diesel PM Pctl               8035 non-null   float64\n",
      " 16  Drinking Water               8007 non-null   float64\n",
      " 17  Drinking Water Pctl          8007 non-null   float64\n",
      " 18  Lead                         7939 non-null   float64\n",
      " 19  Lead Pctl                    7939 non-null   float64\n",
      " 20  Pesticides                   8035 non-null   float64\n",
      " 21  Pesticides Pctl              8035 non-null   float64\n",
      " 22  Tox. Release                 8035 non-null   float64\n",
      " 23  Tox. Release Pctl            8035 non-null   float64\n",
      " 24  Traffic                      8000 non-null   float64\n",
      " 25  Traffic Pctl                 8000 non-null   float64\n",
      " 26  Cleanup Sites                8035 non-null   float64\n",
      " 27  Cleanup Sites Pctl           8035 non-null   float64\n",
      " 28  Groundwater Threats          8035 non-null   float64\n",
      " 29  Groundwater Threats Pctl     8035 non-null   float64\n",
      " 30  Haz. Waste                   8035 non-null   float64\n",
      " 31  Haz. Waste Pctl              8035 non-null   float64\n",
      " 32  Imp. Water Bodies            8035 non-null   int64  \n",
      " 33  Imp. Water Bodies Pctl       8035 non-null   float64\n",
      " 34  Solid Waste                  8035 non-null   float64\n",
      " 35  Solid Waste Pctl             8035 non-null   float64\n",
      " 36  Pollution Burden             8035 non-null   float64\n",
      " 37  Pollution Burden Score       8035 non-null   float64\n",
      " 38  Pollution Burden Pctl        8035 non-null   float64\n",
      " 39  Asthma                       8024 non-null   float64\n",
      " 40  Asthma Pctl                  8024 non-null   float64\n",
      " 41  Low Birth Weight             7808 non-null   float64\n",
      " 42  Low Birth Weight Pctl        7808 non-null   float64\n",
      " 43  Cardiovascular Disease       8024 non-null   float64\n",
      " 44  Cardiovascular Disease Pctl  8024 non-null   float64\n",
      " 45  Education                    7932 non-null   float64\n",
      " 46  Education Pctl               7932 non-null   float64\n",
      " 47  Linguistic Isolation         7715 non-null   float64\n",
      " 48  Linguistic Isolation Pctl    7715 non-null   float64\n",
      " 49  Poverty                      7960 non-null   float64\n",
      " 50  Poverty Pctl                 7960 non-null   float64\n",
      " 51  Unemployment                 7700 non-null   float64\n",
      " 52  Unemployment Pctl            7700 non-null   float64\n",
      " 53  Housing Burden               7890 non-null   float64\n",
      " 54  Housing Burden Pctl          7890 non-null   float64\n",
      " 55  Pop. Char.                   7932 non-null   float64\n",
      " 56  Pop. Char. Score             7932 non-null   float64\n",
      " 57  Pop. Char. Pctl              7932 non-null   float64\n",
      "dtypes: float64(51), int64(3), object(4)\n",
      "memory usage: 3.6+ MB\n"
     ]
    }
   ],
   "source": [
    "# look at the data types, verbose = True shows us all the counts\n",
    "df.info(verbose=True, show_counts=True)"
   ]
  },
  {
   "cell_type": "code",
   "execution_count": 5,
   "id": "56bd8ba2-7a4f-4c0c-8d33-d8d44aece012",
   "metadata": {},
   "outputs": [
    {
     "data": {
      "text/plain": [
       "<bound method DataFrame.info of      Census Tract  Total Population California County  \\\n",
       "0     06019001100              2780           Fresno    \n",
       "1     06077000700              4680       San Joaquin   \n",
       "2     06037204920              2751       Los Angeles   \n",
       "3     06019000700              3664           Fresno    \n",
       "4     06019000200              2689           Fresno    \n",
       "...           ...               ...               ...   \n",
       "8030  06107004000               582           Tulare    \n",
       "8031  06109985202              2509         Tuolumne    \n",
       "8032  06111001206               778          Ventura    \n",
       "8033  06111003012               675          Ventura    \n",
       "8034  06111980000               118          Ventura    \n",
       "\n",
       "                     Approximate Location  CES 4.0 Score  \\\n",
       "0                                  Fresno          93.18   \n",
       "1                                Stockton          86.65   \n",
       "2                             Los Angeles          82.39   \n",
       "3                                  Fresno          81.33   \n",
       "4                                  Fresno          80.75   \n",
       "...                                   ...            ...   \n",
       "8030                          Porterville            NaN   \n",
       "8031  Unincorporated Tuolumne County area            NaN   \n",
       "8032   Unincorporated Ventura County area            NaN   \n",
       "8033                               Oxnard            NaN   \n",
       "8034   Unincorporated Ventura County area            NaN   \n",
       "\n",
       "      CES 4.0 Percentile Range  Pollution Burden Pctl  Pop. Char. Pctl  \\\n",
       "0     95-100% (highest scores)                  99.93            99.72   \n",
       "1     95-100% (highest scores)                  99.29            99.74   \n",
       "2     95-100% (highest scores)                  99.86            95.79   \n",
       "3     95-100% (highest scores)                  97.40            99.89   \n",
       "4     95-100% (highest scores)                  96.94            99.95   \n",
       "...                        ...                    ...              ...   \n",
       "8030                       NaN                  49.58              NaN   \n",
       "8031                       NaN                  10.90              NaN   \n",
       "8032                       NaN                  79.27              NaN   \n",
       "8033                       NaN                  54.11              NaN   \n",
       "8034                       NaN                   0.02              NaN   \n",
       "\n",
       "      PM2.5 Pctl  Drinking Water Pctl  Tox. Release Pctl  Cleanup Sites Pctl  \\\n",
       "0          97.71                84.39              92.20               98.19   \n",
       "1          72.59                41.55              52.35               97.46   \n",
       "2          89.21                92.53              87.73               92.96   \n",
       "3          95.88                84.39              74.93               77.32   \n",
       "4          97.47                84.39              78.96               62.45   \n",
       "...          ...                  ...                ...                 ...   \n",
       "8030       94.49                71.15               8.23                0.00   \n",
       "8031       40.96                42.73              19.45                0.00   \n",
       "8032       16.74                44.81              14.32               71.91   \n",
       "8033       36.94                72.92              45.91                2.07   \n",
       "8034        2.87                 0.59               0.00               41.40   \n",
       "\n",
       "      Asthma Pctl  Cardiovascular Disease Pctl  \n",
       "0           97.22                        92.25  \n",
       "1           94.22                        88.12  \n",
       "2           82.76                        90.15  \n",
       "3           98.24                        94.57  \n",
       "4           98.17                        94.43  \n",
       "...           ...                          ...  \n",
       "8030        71.09                        91.55  \n",
       "8031        77.57                        95.01  \n",
       "8032        54.06                        19.20  \n",
       "8033        49.25                        48.22  \n",
       "8034        71.88                        67.70  \n",
       "\n",
       "[8035 rows x 14 columns]>"
      ]
     },
     "execution_count": 5,
     "metadata": {},
     "output_type": "execute_result"
    }
   ],
   "source": [
    "columns_to_keep = ['Census Tract',\n",
    "                   'Total Population',\n",
    "                   'California County',\n",
    "                   'Approximate Location',\n",
    "                   'CES 4.0 Score',\n",
    "                   'CES 4.0 Percentile Range',\n",
    "                   'Pollution Burden Pctl',\n",
    "                   'Pop. Char. Pctl',\n",
    "                   'PM2.5 Pctl',\n",
    "                   'Drinking Water Pctl',\n",
    "                   'Tox. Release Pctl',\n",
    "                   'Cleanup Sites Pctl',\n",
    "                   'Asthma Pctl',\n",
    "                   'Cardiovascular Disease Pctl']\n",
    "df2 = df[columns_to_keep]\n",
    "df2.info"
   ]
  },
  {
   "cell_type": "code",
   "execution_count": 6,
   "id": "659d9cbf-fed7-48fb-9cc1-ed5c4fe6389a",
   "metadata": {},
   "outputs": [],
   "source": [
    "df2LA = df2[df2['California County'] == 'Los Angeles']"
   ]
  },
  {
   "cell_type": "code",
   "execution_count": 7,
   "id": "d8d01a30-9c34-4c23-ac62-a17396289e84",
   "metadata": {},
   "outputs": [
    {
     "name": "stdout",
     "output_type": "stream",
     "text": [
      "<class 'pandas.core.frame.DataFrame'>\n",
      "Index: 2343 entries, 2 to 7990\n",
      "Data columns (total 14 columns):\n",
      " #   Column                       Non-Null Count  Dtype  \n",
      "---  ------                       --------------  -----  \n",
      " 0   Census Tract                 2343 non-null   object \n",
      " 1   Total Population             2343 non-null   int64  \n",
      " 2   California County            2343 non-null   object \n",
      " 3   Approximate Location         2343 non-null   object \n",
      " 4   CES 4.0 Score                2297 non-null   float64\n",
      " 5   CES 4.0 Percentile Range     2297 non-null   object \n",
      " 6   Pollution Burden Pctl        2343 non-null   float64\n",
      " 7   Pop. Char. Pctl              2297 non-null   float64\n",
      " 8   PM2.5 Pctl                   2343 non-null   float64\n",
      " 9   Drinking Water Pctl          2326 non-null   float64\n",
      " 10  Tox. Release Pctl            2343 non-null   float64\n",
      " 11  Cleanup Sites Pctl           2343 non-null   float64\n",
      " 12  Asthma Pctl                  2334 non-null   float64\n",
      " 13  Cardiovascular Disease Pctl  2334 non-null   float64\n",
      "dtypes: float64(9), int64(1), object(4)\n",
      "memory usage: 274.6+ KB\n"
     ]
    }
   ],
   "source": [
    "df2LA.info()"
   ]
  },
  {
   "cell_type": "code",
   "execution_count": 10,
   "id": "23193d18-e15f-4625-8851-a7c9b4abba56",
   "metadata": {},
   "outputs": [
    {
     "ename": "DriverError",
     "evalue": "data/2020_Census_Tracts.geojson: No such file or directory",
     "output_type": "error",
     "traceback": [
      "\u001b[0;31m---------------------------------------------------------------------------\u001b[0m",
      "\u001b[0;31mCPLE_OpenFailedError\u001b[0m                      Traceback (most recent call last)",
      "File \u001b[0;32mfiona/ogrext.pyx:136\u001b[0m, in \u001b[0;36mfiona.ogrext.gdal_open_vector\u001b[0;34m()\u001b[0m\n",
      "File \u001b[0;32mfiona/_err.pyx:291\u001b[0m, in \u001b[0;36mfiona._err.exc_wrap_pointer\u001b[0;34m()\u001b[0m\n",
      "\u001b[0;31mCPLE_OpenFailedError\u001b[0m: data/2020_Census_Tracts.geojson: No such file or directory",
      "\nDuring handling of the above exception, another exception occurred:\n",
      "\u001b[0;31mDriverError\u001b[0m                               Traceback (most recent call last)",
      "Cell \u001b[0;32mIn[10], line 1\u001b[0m\n\u001b[0;32m----> 1\u001b[0m tracts\u001b[38;5;241m=\u001b[39m \u001b[43mgpd\u001b[49m\u001b[38;5;241;43m.\u001b[39;49m\u001b[43mread_file\u001b[49m\u001b[43m(\u001b[49m\u001b[38;5;124;43m'\u001b[39;49m\u001b[38;5;124;43mdata/2020_Census_Tracts.geojson\u001b[39;49m\u001b[38;5;124;43m'\u001b[39;49m\u001b[43m)\u001b[49m\n\u001b[1;32m      2\u001b[0m tracts\u001b[38;5;241m.\u001b[39mhead()\n",
      "File \u001b[0;32m/opt/conda/lib/python3.11/site-packages/geopandas/io/file.py:297\u001b[0m, in \u001b[0;36m_read_file\u001b[0;34m(filename, bbox, mask, rows, engine, **kwargs)\u001b[0m\n\u001b[1;32m    294\u001b[0m     \u001b[38;5;28;01melse\u001b[39;00m:\n\u001b[1;32m    295\u001b[0m         path_or_bytes \u001b[38;5;241m=\u001b[39m filename\n\u001b[0;32m--> 297\u001b[0m     \u001b[38;5;28;01mreturn\u001b[39;00m \u001b[43m_read_file_fiona\u001b[49m\u001b[43m(\u001b[49m\n\u001b[1;32m    298\u001b[0m \u001b[43m        \u001b[49m\u001b[43mpath_or_bytes\u001b[49m\u001b[43m,\u001b[49m\u001b[43m \u001b[49m\u001b[43mfrom_bytes\u001b[49m\u001b[43m,\u001b[49m\u001b[43m \u001b[49m\u001b[43mbbox\u001b[49m\u001b[38;5;241;43m=\u001b[39;49m\u001b[43mbbox\u001b[49m\u001b[43m,\u001b[49m\u001b[43m \u001b[49m\u001b[43mmask\u001b[49m\u001b[38;5;241;43m=\u001b[39;49m\u001b[43mmask\u001b[49m\u001b[43m,\u001b[49m\u001b[43m \u001b[49m\u001b[43mrows\u001b[49m\u001b[38;5;241;43m=\u001b[39;49m\u001b[43mrows\u001b[49m\u001b[43m,\u001b[49m\u001b[43m \u001b[49m\u001b[38;5;241;43m*\u001b[39;49m\u001b[38;5;241;43m*\u001b[39;49m\u001b[43mkwargs\u001b[49m\n\u001b[1;32m    299\u001b[0m \u001b[43m    \u001b[49m\u001b[43m)\u001b[49m\n\u001b[1;32m    301\u001b[0m \u001b[38;5;28;01melse\u001b[39;00m:\n\u001b[1;32m    302\u001b[0m     \u001b[38;5;28;01mraise\u001b[39;00m \u001b[38;5;167;01mValueError\u001b[39;00m(\u001b[38;5;124mf\u001b[39m\u001b[38;5;124m\"\u001b[39m\u001b[38;5;124munknown engine \u001b[39m\u001b[38;5;124m'\u001b[39m\u001b[38;5;132;01m{\u001b[39;00mengine\u001b[38;5;132;01m}\u001b[39;00m\u001b[38;5;124m'\u001b[39m\u001b[38;5;124m\"\u001b[39m)\n",
      "File \u001b[0;32m/opt/conda/lib/python3.11/site-packages/geopandas/io/file.py:338\u001b[0m, in \u001b[0;36m_read_file_fiona\u001b[0;34m(path_or_bytes, from_bytes, bbox, mask, rows, where, **kwargs)\u001b[0m\n\u001b[1;32m    335\u001b[0m     reader \u001b[38;5;241m=\u001b[39m fiona\u001b[38;5;241m.\u001b[39mopen\n\u001b[1;32m    337\u001b[0m \u001b[38;5;28;01mwith\u001b[39;00m fiona_env():\n\u001b[0;32m--> 338\u001b[0m     \u001b[38;5;28;01mwith\u001b[39;00m \u001b[43mreader\u001b[49m\u001b[43m(\u001b[49m\u001b[43mpath_or_bytes\u001b[49m\u001b[43m,\u001b[49m\u001b[43m \u001b[49m\u001b[38;5;241;43m*\u001b[39;49m\u001b[38;5;241;43m*\u001b[39;49m\u001b[43mkwargs\u001b[49m\u001b[43m)\u001b[49m \u001b[38;5;28;01mas\u001b[39;00m features:\n\u001b[1;32m    339\u001b[0m         crs \u001b[38;5;241m=\u001b[39m features\u001b[38;5;241m.\u001b[39mcrs_wkt\n\u001b[1;32m    340\u001b[0m         \u001b[38;5;66;03m# attempt to get EPSG code\u001b[39;00m\n",
      "File \u001b[0;32m/opt/conda/lib/python3.11/site-packages/fiona/env.py:457\u001b[0m, in \u001b[0;36mensure_env_with_credentials.<locals>.wrapper\u001b[0;34m(*args, **kwds)\u001b[0m\n\u001b[1;32m    454\u001b[0m     session \u001b[38;5;241m=\u001b[39m DummySession()\n\u001b[1;32m    456\u001b[0m \u001b[38;5;28;01mwith\u001b[39;00m env_ctor(session\u001b[38;5;241m=\u001b[39msession):\n\u001b[0;32m--> 457\u001b[0m     \u001b[38;5;28;01mreturn\u001b[39;00m \u001b[43mf\u001b[49m\u001b[43m(\u001b[49m\u001b[38;5;241;43m*\u001b[39;49m\u001b[43margs\u001b[49m\u001b[43m,\u001b[49m\u001b[43m \u001b[49m\u001b[38;5;241;43m*\u001b[39;49m\u001b[38;5;241;43m*\u001b[39;49m\u001b[43mkwds\u001b[49m\u001b[43m)\u001b[49m\n",
      "File \u001b[0;32m/opt/conda/lib/python3.11/site-packages/fiona/__init__.py:292\u001b[0m, in \u001b[0;36mopen\u001b[0;34m(fp, mode, driver, schema, crs, encoding, layer, vfs, enabled_drivers, crs_wkt, allow_unsupported_drivers, **kwargs)\u001b[0m\n\u001b[1;32m    289\u001b[0m     path \u001b[38;5;241m=\u001b[39m parse_path(fp)\n\u001b[1;32m    291\u001b[0m \u001b[38;5;28;01mif\u001b[39;00m mode \u001b[38;5;129;01min\u001b[39;00m (\u001b[38;5;124m\"\u001b[39m\u001b[38;5;124ma\u001b[39m\u001b[38;5;124m\"\u001b[39m, \u001b[38;5;124m\"\u001b[39m\u001b[38;5;124mr\u001b[39m\u001b[38;5;124m\"\u001b[39m):\n\u001b[0;32m--> 292\u001b[0m     colxn \u001b[38;5;241m=\u001b[39m \u001b[43mCollection\u001b[49m\u001b[43m(\u001b[49m\n\u001b[1;32m    293\u001b[0m \u001b[43m        \u001b[49m\u001b[43mpath\u001b[49m\u001b[43m,\u001b[49m\n\u001b[1;32m    294\u001b[0m \u001b[43m        \u001b[49m\u001b[43mmode\u001b[49m\u001b[43m,\u001b[49m\n\u001b[1;32m    295\u001b[0m \u001b[43m        \u001b[49m\u001b[43mdriver\u001b[49m\u001b[38;5;241;43m=\u001b[39;49m\u001b[43mdriver\u001b[49m\u001b[43m,\u001b[49m\n\u001b[1;32m    296\u001b[0m \u001b[43m        \u001b[49m\u001b[43mencoding\u001b[49m\u001b[38;5;241;43m=\u001b[39;49m\u001b[43mencoding\u001b[49m\u001b[43m,\u001b[49m\n\u001b[1;32m    297\u001b[0m \u001b[43m        \u001b[49m\u001b[43mlayer\u001b[49m\u001b[38;5;241;43m=\u001b[39;49m\u001b[43mlayer\u001b[49m\u001b[43m,\u001b[49m\n\u001b[1;32m    298\u001b[0m \u001b[43m        \u001b[49m\u001b[43menabled_drivers\u001b[49m\u001b[38;5;241;43m=\u001b[39;49m\u001b[43menabled_drivers\u001b[49m\u001b[43m,\u001b[49m\n\u001b[1;32m    299\u001b[0m \u001b[43m        \u001b[49m\u001b[43mallow_unsupported_drivers\u001b[49m\u001b[38;5;241;43m=\u001b[39;49m\u001b[43mallow_unsupported_drivers\u001b[49m\u001b[43m,\u001b[49m\n\u001b[1;32m    300\u001b[0m \u001b[43m        \u001b[49m\u001b[38;5;241;43m*\u001b[39;49m\u001b[38;5;241;43m*\u001b[39;49m\u001b[43mkwargs\u001b[49m\n\u001b[1;32m    301\u001b[0m \u001b[43m    \u001b[49m\u001b[43m)\u001b[49m\n\u001b[1;32m    302\u001b[0m \u001b[38;5;28;01melif\u001b[39;00m mode \u001b[38;5;241m==\u001b[39m \u001b[38;5;124m\"\u001b[39m\u001b[38;5;124mw\u001b[39m\u001b[38;5;124m\"\u001b[39m:\n\u001b[1;32m    303\u001b[0m     colxn \u001b[38;5;241m=\u001b[39m Collection(\n\u001b[1;32m    304\u001b[0m         path,\n\u001b[1;32m    305\u001b[0m         mode,\n\u001b[0;32m   (...)\u001b[0m\n\u001b[1;32m    314\u001b[0m         \u001b[38;5;241m*\u001b[39m\u001b[38;5;241m*\u001b[39mkwargs\n\u001b[1;32m    315\u001b[0m     )\n",
      "File \u001b[0;32m/opt/conda/lib/python3.11/site-packages/fiona/collection.py:243\u001b[0m, in \u001b[0;36mCollection.__init__\u001b[0;34m(self, path, mode, driver, schema, crs, encoding, layer, vsi, archive, enabled_drivers, crs_wkt, ignore_fields, ignore_geometry, include_fields, wkt_version, allow_unsupported_drivers, **kwargs)\u001b[0m\n\u001b[1;32m    241\u001b[0m \u001b[38;5;28;01mif\u001b[39;00m \u001b[38;5;28mself\u001b[39m\u001b[38;5;241m.\u001b[39mmode \u001b[38;5;241m==\u001b[39m \u001b[38;5;124m\"\u001b[39m\u001b[38;5;124mr\u001b[39m\u001b[38;5;124m\"\u001b[39m:\n\u001b[1;32m    242\u001b[0m     \u001b[38;5;28mself\u001b[39m\u001b[38;5;241m.\u001b[39msession \u001b[38;5;241m=\u001b[39m Session()\n\u001b[0;32m--> 243\u001b[0m     \u001b[38;5;28;43mself\u001b[39;49m\u001b[38;5;241;43m.\u001b[39;49m\u001b[43msession\u001b[49m\u001b[38;5;241;43m.\u001b[39;49m\u001b[43mstart\u001b[49m\u001b[43m(\u001b[49m\u001b[38;5;28;43mself\u001b[39;49m\u001b[43m,\u001b[49m\u001b[43m \u001b[49m\u001b[38;5;241;43m*\u001b[39;49m\u001b[38;5;241;43m*\u001b[39;49m\u001b[43mkwargs\u001b[49m\u001b[43m)\u001b[49m\n\u001b[1;32m    244\u001b[0m \u001b[38;5;28;01melif\u001b[39;00m \u001b[38;5;28mself\u001b[39m\u001b[38;5;241m.\u001b[39mmode \u001b[38;5;129;01min\u001b[39;00m (\u001b[38;5;124m\"\u001b[39m\u001b[38;5;124ma\u001b[39m\u001b[38;5;124m\"\u001b[39m, \u001b[38;5;124m\"\u001b[39m\u001b[38;5;124mw\u001b[39m\u001b[38;5;124m\"\u001b[39m):\n\u001b[1;32m    245\u001b[0m     \u001b[38;5;28mself\u001b[39m\u001b[38;5;241m.\u001b[39msession \u001b[38;5;241m=\u001b[39m WritingSession()\n",
      "File \u001b[0;32mfiona/ogrext.pyx:588\u001b[0m, in \u001b[0;36mfiona.ogrext.Session.start\u001b[0;34m()\u001b[0m\n",
      "File \u001b[0;32mfiona/ogrext.pyx:143\u001b[0m, in \u001b[0;36mfiona.ogrext.gdal_open_vector\u001b[0;34m()\u001b[0m\n",
      "\u001b[0;31mDriverError\u001b[0m: data/2020_Census_Tracts.geojson: No such file or directory"
     ]
    }
   ],
   "source": [
    "tracts= gpd.read_file('data/2020_Census_Tracts.geojson')\n",
    "tracts.head()"
   ]
  },
  {
   "cell_type": "code",
   "execution_count": null,
   "id": "ec781e80-d29a-4b2e-8b8d-02fad67b29b0",
   "metadata": {},
   "outputs": [],
   "source": [
    "tracts['FIPS'] ='06' + '037' + tracts['CT20']"
   ]
  },
  {
   "cell_type": "code",
   "execution_count": null,
   "id": "ea5eeab2-5c19-4ef5-886d-93e1cc0fcc42",
   "metadata": {},
   "outputs": [],
   "source": [
    "CEStracts=tracts.merge(df2,on=\"FIPS\")"
   ]
  },
  {
   "cell_type": "markdown",
   "id": "357b8573-eea9-41e9-9f69-03b11ac9129d",
   "metadata": {},
   "source": [
    "# Mapping and visuals"
   ]
  },
  {
   "cell_type": "markdown",
   "id": "c517f0f7-312f-45bc-aeea-4c77f8dba4c0",
   "metadata": {},
   "source": [
    "Now to think about visualizations, chart and map options."
   ]
  },
  {
   "cell_type": "code",
   "execution_count": null,
   "id": "8d937423-a2d7-4159-a37a-c3a3720cd1b7",
   "metadata": {},
   "outputs": [],
   "source": [
    "import plotly.express as px"
   ]
  },
  {
   "cell_type": "markdown",
   "id": "21536951-22b4-4771-b270-dcb6adab26c6",
   "metadata": {},
   "source": [
    "The maps below are from my week 4 assignment and haven't put everything together yet so they might need to be adjusted"
   ]
  },
  {
   "cell_type": "code",
   "execution_count": null,
   "id": "94a428ec-eaac-4db3-bda2-65fe71a7de5e",
   "metadata": {},
   "outputs": [],
   "source": [
    "df2LA['PollBurd'].plot.hist(bins=50)"
   ]
  },
  {
   "cell_type": "code",
   "execution_count": null,
   "id": "6f5ea6f8-6691-4b5f-84bd-f6cbf6b4385d",
   "metadata": {},
   "outputs": [],
   "source": [
    "import matplotlib.pyplot as plt\n",
    "import contextily as ctx"
   ]
  },
  {
   "cell_type": "code",
   "execution_count": null,
   "id": "85551b5a-f84b-4225-81eb-866d1df8a41a",
   "metadata": {},
   "outputs": [],
   "source": [
    "fig,ax = plt.subplots(figsize=(12,12))\n",
    "\n",
    "df2LA.plot(ax=ax,column='PollBurd',legend=True,cmap='Reds')"
   ]
  }
 ],
 "metadata": {
  "kernelspec": {
   "display_name": "Python 3 (ipykernel)",
   "language": "python",
   "name": "python3"
  },
  "language_info": {
   "codemirror_mode": {
    "name": "ipython",
    "version": 3
   },
   "file_extension": ".py",
   "mimetype": "text/x-python",
   "name": "python",
   "nbconvert_exporter": "python",
   "pygments_lexer": "ipython3",
   "version": "3.11.7"
  }
 },
 "nbformat": 4,
 "nbformat_minor": 5
}
