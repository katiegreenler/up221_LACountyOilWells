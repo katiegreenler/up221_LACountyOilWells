{
 "cells": [
  {
   "cell_type": "markdown",
   "id": "3497842c-e514-4a86-8421-312202f51876",
   "metadata": {},
   "source": [
    "# Educational Attainment Census Data\n",
    "\n",
    "This notebook explores education data for Los Angeles County (ACS 5-year Estimates 2022) and compiles a few tables and maps to help visualize the data.\n",
    "\n",
    "By Katie Greenler"
   ]
  },
  {
   "cell_type": "code",
   "execution_count": null,
   "id": "fb48baf2-2f31-43d7-989d-771f29f3c82e",
   "metadata": {},
   "outputs": [],
   "source": []
  }
 ],
 "metadata": {
  "kernelspec": {
   "display_name": "Python 3 (ipykernel)",
   "language": "python",
   "name": "python3"
  },
  "language_info": {
   "codemirror_mode": {
    "name": "ipython",
    "version": 3
   },
   "file_extension": ".py",
   "mimetype": "text/x-python",
   "name": "python",
   "nbconvert_exporter": "python",
   "pygments_lexer": "ipython3",
   "version": "3.11.7"
  }
 },
 "nbformat": 4,
 "nbformat_minor": 5
}
