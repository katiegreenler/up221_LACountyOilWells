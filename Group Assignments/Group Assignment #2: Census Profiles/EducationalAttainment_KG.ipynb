{
 "cells": [
  {
   "cell_type": "markdown",
   "id": "3497842c-e514-4a86-8421-312202f51876",
   "metadata": {},
   "source": [
    "# Educational Attainment Census Data\n",
    "\n",
    "- This notebook explores education data for Los Angeles County (ACS 5-year Estimates 2022) and compiles a few tables and maps to help visualize the data.\n",
    "\n",
    "By Katie Greenler"
   ]
  },
  {
   "cell_type": "markdown",
   "id": "988a3866-faa0-454f-a7c1-2489d308626b",
   "metadata": {},
   "source": [
    "## Data Exploration"
   ]
  },
  {
   "cell_type": "code",
   "execution_count": 1,
   "id": "6067f3a6-531a-4c11-9af7-6e2f42183dc2",
   "metadata": {},
   "outputs": [],
   "source": [
    "# importing python libraries\n",
    "import pandas as pd\n",
    "import geopandas as gpd"
   ]
  },
  {
   "cell_type": "code",
   "execution_count": null,
   "id": "84d1583d-327b-4282-a0f8-3051277e2967",
   "metadata": {},
   "outputs": [],
   "source": [
    "# read and add csv to notebook\n",
    "df = pd.read_csv('Data/EducAttainment.csv')"
   ]
  },
  {
   "cell_type": "code",
   "execution_count": null,
   "id": "d6b95ded-94b7-4c51-91a4-41d731eee675",
   "metadata": {},
   "outputs": [],
   "source": []
  }
 ],
 "metadata": {
  "kernelspec": {
   "display_name": "Python 3 (ipykernel)",
   "language": "python",
   "name": "python3"
  },
  "language_info": {
   "codemirror_mode": {
    "name": "ipython",
    "version": 3
   },
   "file_extension": ".py",
   "mimetype": "text/x-python",
   "name": "python",
   "nbconvert_exporter": "python",
   "pygments_lexer": "ipython3",
   "version": "3.11.7"
  }
 },
 "nbformat": 4,
 "nbformat_minor": 5
}
