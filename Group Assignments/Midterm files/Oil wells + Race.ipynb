{
 "cells": [
  {
   "cell_type": "code",
   "execution_count": null,
   "id": "25d3c60b-b514-4c82-a6be-1469bc7cddf4",
   "metadata": {},
   "outputs": [],
   "source": [
    "# Oil Wells and Race\n",
    "## Census Tract Data and Racial Composition of Los Angeles"
   ]
  },
  {
   "cell_type": "code",
   "execution_count": null,
   "id": "bfe2dce8-a0fc-421a-976c-a330b0aaa67e",
   "metadata": {},
   "outputs": [],
   "source": [
    "import pandas as pd\n",
    "import geopandas as gpd\n",
    "import matplotlib.pyplot as plt\n",
    "import numpy as np\n",
    "import folium"
   ]
  },
  {
   "cell_type": "code",
   "execution_count": null,
   "id": "4ad5838c-22d6-4a7a-ac36-7f82988a7bc0",
   "metadata": {},
   "outputs": [],
   "source": [
    "# begin reading the ACS 5-year racial demographic data based on the census tracts"
   ]
  },
  {
   "cell_type": "code",
   "execution_count": null,
   "id": "1fcd9b9f-26a5-47f8-a33a-ae984cb732fe",
   "metadata": {},
   "outputs": [],
   "source": [
    "cens_race = pd.read_csv('Data/ACS 2022_Race_5YEst.csv',\n",
    "                     dtype={'FIPS':str,}\n",
    "                     )"
   ]
  },
  {
   "cell_type": "code",
   "execution_count": null,
   "id": "89259aee-af15-42b9-b86d-3b8ae2b05369",
   "metadata": {},
   "outputs": [],
   "source": [
    "#Merge ACS data with census tracts in LA, create the FIPS column, and allow merging with other geospatial data \n",
    "cens_geo = gpd.read_file('Data/Census_Tracts_2020_DM.geojson')\n",
    "cens_geo = cens_geo[['CT20','geometry']]\n",
    "cens_geo['FIPS'] = '06'+ '037' + cens_geo['CT20']\n",
    "cens_race_geo= cens_geo.merge(cens_race,on=\"FIPS\")\n",
    "cens_race_geo.columns"
   ]
  },
  {
   "cell_type": "code",
   "execution_count": null,
   "id": "691a4eb6-ae3b-40b8-986a-4f6f31f81def",
   "metadata": {},
   "outputs": [],
   "source": [
    "# Create a percentage of 4 ethnic groups (H/NH) as the basis of the Analysis on race/ethnicity"
   ]
  },
  {
   "cell_type": "code",
   "execution_count": null,
   "id": "67876f27-08d7-481a-bfbb-a488384f9797",
   "metadata": {},
   "outputs": [],
   "source": [
    "cens_race_geo['PCT_Black'] = cens_race_geo['Total Population: Not Hispanic or Latino: Black or African American Alone']/cens_race_geo['Total Population:']*100\n",
    "cens_race_geo['PCT_White'] = cens_race_geo['Total Population: Not Hispanic or Latino: White Alone']/cens_race_geo['Total Population:']*100\n",
    "cens_race_geo['PCT_Hispanic'] = cens_race_geo['Total Population: Hispanic or Latino']/cens_race_geo['Total Population:']*100\n",
    "cens_race_geo['PCT_Asian'] = cens_race_geo['Total Population: Not Hispanic or Latino: Asian Alone']/cens_race_geo['Total Population:']*100"
   ]
  },
  {
   "cell_type": "code",
   "execution_count": null,
   "id": "8a049a3e-8fec-4d01-b0d1-d496cb07a1a5",
   "metadata": {},
   "outputs": [],
   "source": [
    "## Introducing oil wells data "
   ]
  },
  {
   "cell_type": "code",
   "execution_count": null,
   "id": "a7c64f55-4261-4e61-876c-81ab4f82e0ac",
   "metadata": {},
   "outputs": [],
   "source": [
    "df = pd.read_csv('Data/Oil_Wells.csv')"
   ]
  },
  {
   "cell_type": "code",
   "execution_count": null,
   "id": "73b25df5-37d8-43ec-b114-c74adfa2c589",
   "metadata": {},
   "outputs": [],
   "source": [
    "gdf = gpd.GeoDataFrame(df, \n",
    "                       crs='epsg:4326',\n",
    "                       geometry=gpd.points_from_xy(df.Longitude, df.Latitude))"
   ]
  },
  {
   "cell_type": "code",
   "execution_count": null,
   "id": "0b0b67d3-0bb7-4166-94fe-ca8f9372adc6",
   "metadata": {},
   "outputs": [],
   "source": [
    "# To minimize memory issues, we limit the dataset to active wells only \n",
    "gdf_active = gdf.drop(gdf[gdf['WellStatus'] != 'A'].index)"
   ]
  },
  {
   "cell_type": "code",
   "execution_count": null,
   "id": "86deb813-8f7c-4684-b188-6a94fe724f25",
   "metadata": {},
   "outputs": [],
   "source": [
    "### Question 1: Is there any initial observed clustering of oil wells around ethnic majority census tracts?"
   ]
  },
  {
   "cell_type": "code",
   "execution_count": null,
   "id": "37f30111-7a65-4738-b188-dcce224d363c",
   "metadata": {},
   "outputs": [],
   "source": [
    "df_Hmaj = cens_race_geo[cens_race_geo['PCT_Hispanic']>50]\n",
    "df_NHWhite_maj = cens_race_geo[cens_race_geo['PCT_White']>50]\n",
    "df_NHBlack_maj = cens_race_geo[cens_race_geo['PCT_Black']>50]\n",
    "df_NHAsian_maj = cens_race_geo[cens_race_geo['PCT_Asian']>50]"
   ]
  },
  {
   "cell_type": "code",
   "execution_count": null,
   "id": "313d9d82-3a92-40fc-bd4d-e03d15ab83dc",
   "metadata": {},
   "outputs": [],
   "source": [
    "# We will now visualize the oil wells data for each of the four ethnic majority census tracts. Starting with the Hispanic majority tracts\n",
    "m = folium.Map(location=[34.2,-118.2], #develop base map using the geop parameters of Los Angeles \n",
    "               zoom_start = 9,\n",
    "               tiles='CartoDB positron', \n",
    "               attribution='CartoDB')\n",
    "# plot chorpleth over the base map\n",
    "folium.Choropleth(                 \n",
    "                  geo_data=df_Hmaj, # geo data\n",
    "                  data=df_Hmaj, # data          \n",
    "                  key_on='feature.properties.FIPS', # key, or merge column\n",
    "                  columns=['FIPS', 'PCT_Hispanic'], # [key, value]\n",
    "                  fill_color='RdPu',\n",
    "                  nan_fill_color='white',  # set nan_fill_color to 'white' for NaN values\n",
    "                  line_weight=0.1, \n",
    "                  fill_opacity=0.8,\n",
    "                  line_opacity=0.2, # line opacity (of the border)\n",
    "                  legend_name='Majority Hispanic Census Tracts (2022)').add_to(m)  \n",
    "\n",
    "# create feature group so that business layer can be added to drop down\n",
    "f2=folium.FeatureGroup(name='Oil Wells').add_to(m)\n",
    "\n",
    "# add the wells to the feature group\n",
    "for index, row in gdf_active.iterrows():\n",
    "    folium.Circle(\n",
    "        radius=1,\n",
    "        color=\"black\",\n",
    "        location=[row.Latitude,row.Longitude], \n",
    "        overlay=False).add_to(f2)\n",
    "\n",
    "folium.LayerControl(position='topright', collapsed=True, autoZIndex=True).add_to(m)\n",
    "\n",
    "m"
   ]
  },
  {
   "cell_type": "code",
   "execution_count": null,
   "id": "66df5b95-e865-41cc-9756-e91c58c5138a",
   "metadata": {},
   "outputs": [],
   "source": [
    "m.save('OilWells_Hispanic_Maj.png')"
   ]
  },
  {
   "cell_type": "code",
   "execution_count": null,
   "id": "1e10e42f-18af-4d95-85fc-4636885ba7ca",
   "metadata": {},
   "outputs": [],
   "source": [
    "#FOR NH_WHITE MAJORITY TRACTS\n",
    "m2 = folium.Map(location=[34.2,-118.2],\n",
    "               zoom_start = 9,\n",
    "               tiles='CartoDB positron', \n",
    "               attribution='CartoDB')\n",
    "folium.Choropleth(                         \n",
    "                  geo_data=df_NHWhite_maj,\n",
    "                  data=df_NHWhite_maj,          \n",
    "                  key_on='feature.properties.FIPS',\n",
    "                  columns=['FIPS', 'PCT_White'],\n",
    "                  fill_color='RdPu',\n",
    "                  nan_fill_color='white', \n",
    "                  line_weight=0.1, \n",
    "                  fill_opacity=0.8,\n",
    "                  line_opacity=0.2, # \n",
    "                  legend_name='Majority White Census Tracts (2022)').add_to(m2)  \n",
    "f3=folium.FeatureGroup(name='Oil Wells').add_to(m2)\n",
    "for index, row in gdf_active.iterrows():\n",
    "    folium.Circle(\n",
    "        radius=1,\n",
    "        color=\"black\",\n",
    "        location=[row.Latitude,row.Longitude], \n",
    "        overlay=False).add_to(f3)\n",
    "folium.LayerControl(position='topright', collapsed=True, autoZIndex=True).add_to(m2)\n",
    "m2"
   ]
  },
  {
   "cell_type": "code",
   "execution_count": null,
   "id": "9bc61915-08f4-4cb9-9776-1f18e1c9f937",
   "metadata": {},
   "outputs": [],
   "source": [
    "m2.save('OilWells_NHWhite_Maj.png')"
   ]
  },
  {
   "cell_type": "code",
   "execution_count": null,
   "id": "4a5ae124-8783-4c04-88ca-4f7cf2c231e6",
   "metadata": {
    "scrolled": true
   },
   "outputs": [],
   "source": [
    "#FOR NH_BLACK MAJORITY TRACTS\n",
    "m3 = folium.Map(location=[34.2,-118.2], \n",
    "               zoom_start = 9,\n",
    "               tiles='CartoDB positron', \n",
    "               attribution='CartoDB')\n",
    "folium.Choropleth(\n",
    "                  geo_data=df_NHBlack_maj,\n",
    "                  data=df_NHBlack_maj,          \n",
    "                  key_on='feature.properties.FIPS',\n",
    "                  columns=['FIPS', 'PCT_Black'],\n",
    "                  fill_color='RdPu',\n",
    "                  nan_fill_color='white',\n",
    "                  line_weight=0.1, \n",
    "                  fill_opacity=0.8,\n",
    "                  line_opacity=0.2, \n",
    "                  legend_name='Majority Black Census Tracts (2022)').add_to(m3)  \n",
    "\n",
    "f2=folium.FeatureGroup(name='Oil Wells').add_to(m3)\n",
    "for index, row in gdf_active.iterrows():\n",
    "    folium.Circle(\n",
    "        radius=1,\n",
    "        color=\"black\",\n",
    "        location=[row.Latitude,row.Longitude], \n",
    "        overlay=False).add_to(f2)\n",
    "\n",
    "folium.LayerControl(position='topright', collapsed=True, autoZIndex=True).add_to(m3)\n",
    "m3"
   ]
  },
  {
   "cell_type": "code",
   "execution_count": null,
   "id": "ab780656-69f9-4cd6-a371-76eeb97894d1",
   "metadata": {},
   "outputs": [],
   "source": [
    "m3.save('OilWells_NHBlack_Maj.png')"
   ]
  },
  {
   "cell_type": "code",
   "execution_count": null,
   "id": "1fabd26a-63c4-4e53-adf0-4dcc2353067d",
   "metadata": {},
   "outputs": [],
   "source": [
    "#FOR NH_ASIAN MAJORITY TRACTS\n",
    "m4 = folium.Map(location=[34.2,-118.2], \n",
    "               zoom_start = 9,\n",
    "               tiles='CartoDB positron', \n",
    "               attribution='CartoDB')\n",
    "\n",
    "folium.Choropleth(\n",
    "                  geo_data=df_NHAsian_maj,\n",
    "                  data=df_NHAsian_maj,         \n",
    "                  key_on='feature.properties.FIPS',\n",
    "                  columns=['FIPS', 'PCT_Asian'],\n",
    "                  fill_color='RdPu',\n",
    "                  nan_fill_color='white',\n",
    "                  line_weight=0.1, \n",
    "                  fill_opacity=0.8,\n",
    "                  line_opacity=0.2,\n",
    "                  legend_name='Majority Asian Census Tracts (2022)').add_to(m4)  \n",
    "f2=folium.FeatureGroup(name='Oil Wells').add_to(m4)\n",
    "for index, row in gdf_active.iterrows():\n",
    "    folium.Circle(\n",
    "        radius=1,\n",
    "        color=\"black\",\n",
    "        location=[row.Latitude,row.Longitude], \n",
    "        overlay=False).add_to(f2)\n",
    "\n",
    "folium.LayerControl(position='topright', collapsed=True, autoZIndex=True).add_to(m4)\n",
    "\n",
    "m4"
   ]
  },
  {
   "cell_type": "code",
   "execution_count": null,
   "id": "e55b6fc5-9f41-45f1-a8a0-21ab1ea3f3a2",
   "metadata": {},
   "outputs": [],
   "source": [
    "m4.save('OilWells_NHAsian_Maj.html')"
   ]
  },
  {
   "cell_type": "code",
   "execution_count": null,
   "id": "67db0360-5b5b-49d5-a4c2-61bdcd8c8ee6",
   "metadata": {},
   "outputs": [],
   "source": [
    "### Question 2: What is the racial composition of the top 10 census tracts with the most oil wells?"
   ]
  },
  {
   "cell_type": "code",
   "execution_count": null,
   "id": "76e23a90-971a-4783-a2ef-8aff241c8354",
   "metadata": {},
   "outputs": [],
   "source": [
    "# Join the oil wells data with the cens_race_geo with racial group %\n",
    "merged_df = gpd.sjoin(gdf_active, cens_race_geo, how='left', op='within')\n",
    "merged_df.columns"
   ]
  },
  {
   "cell_type": "code",
   "execution_count": null,
   "id": "8e1e8644-795e-4269-95b5-25ef0e7ff95d",
   "metadata": {},
   "outputs": [],
   "source": [
    "# oil wells data top 10 census tracts \n",
    "number_wells = merged_df.groupby('index_right').size()\n",
    "top_10 = number_wells.nlargest(10)\n",
    "tract_PCT_oil = cens_race_geo.loc[top_10.index]\n",
    "tract_PCT_oil.columns"
   ]
  },
  {
   "cell_type": "code",
   "execution_count": null,
   "id": "ff9f2922-dd0e-40b2-aa60-f6a4855eaca2",
   "metadata": {},
   "outputs": [],
   "source": [
    "# Place the tract_PCT_oil into a grouped bar chart using the mean percentage of each racial group\n",
    "df2 = pd.DataFrame(tract_PCT_oil, columns=['PCT_Hispanic', 'PCT_White', 'PCT_Black', 'PCT_Asian'])\n",
    "# Calculate the mean for each column\n",
    "column_means = df2.mean()\n",
    "\n",
    "# Plot grouped bar plot for each column mean\n",
    "plt.bar(column_means.index, column_means, color='Green')\n",
    "plt.title('Racial demographics in Top 10 Oil Wells Tracts')\n",
    "plt.xlabel('Race/Ethnicity(by H-NH)')\n",
    "plt.ylabel('% of Tract Residents')\n",
    "plt.show()"
   ]
  },
  {
   "cell_type": "code",
   "execution_count": null,
   "id": "0fbeb845-9018-40e2-bb6a-68d7a4731202",
   "metadata": {},
   "outputs": [],
   "source": [
    "plt.savefig('Top10Oil_byRace.png')"
   ]
  },
  {
   "cell_type": "code",
   "execution_count": null,
   "id": "94fe4829-1f81-4e36-a417-68bc47f277a6",
   "metadata": {},
   "outputs": [],
   "source": [
    "# Map racial composition of census tracts around Los Angeles in general\n",
    "df3 = pd.DataFrame(cens_race_geo, columns=['PCT_Hispanic', 'PCT_White', 'PCT_Black', 'PCT_Asian'])\n",
    "# Calculate the mean for each column\n",
    "column_means_gen = df3.mean()\n",
    "\n",
    "# Plot grouped bar plot for each column mean\n",
    "plt.bar(column_means_gen.index, column_means_gen, color='Brown')\n",
    "plt.title('Racial demographics in Los Angeles County')\n",
    "plt.xlabel('Race/Ethnicity(by H-NH)')\n",
    "plt.ylabel('% of Tract Residents')\n",
    "plt.show()"
   ]
  },
  {
   "cell_type": "code",
   "execution_count": null,
   "id": "809c0dfe-5d14-464a-bb1e-db9404187fa3",
   "metadata": {},
   "outputs": [],
   "source": []
  }
 ],
 "metadata": {
  "kernelspec": {
   "display_name": "Python 3 (ipykernel)",
   "language": "python",
   "name": "python3"
  },
  "language_info": {
   "codemirror_mode": {
    "name": "ipython",
    "version": 3
   },
   "file_extension": ".py",
   "mimetype": "text/x-python",
   "name": "python",
   "nbconvert_exporter": "python",
   "pygments_lexer": "ipython3",
   "version": "3.11.7"
  }
 },
 "nbformat": 4,
 "nbformat_minor": 5
}
