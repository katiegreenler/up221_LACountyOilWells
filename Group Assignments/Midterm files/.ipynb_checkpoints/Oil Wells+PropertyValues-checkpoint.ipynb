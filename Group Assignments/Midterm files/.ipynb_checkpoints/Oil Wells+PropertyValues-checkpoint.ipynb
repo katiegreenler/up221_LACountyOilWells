{
 "cells": [
  {
   "cell_type": "code",
   "execution_count": 1,
   "id": "d4455a31-5d62-4e69-899c-7a0c4dcdbe24",
   "metadata": {},
   "outputs": [],
   "source": [
    "# first importing pandas\n",
    "import pandas as pd"
   ]
  },
  {
   "cell_type": "code",
   "execution_count": 2,
   "id": "a78e5aa9-3d4b-459d-8809-cd7db633a66c",
   "metadata": {},
   "outputs": [],
   "source": [
    "df = pd.read_csv(\n",
    "    'Property.csv',\n",
    "    dtype=\n",
    "    {\n",
    "        'Geo_FIPS':str,\n",
    "        'Geo_STATE':str,\n",
    "        'Geo_COUNTY': str\n",
    "    }\n",
    ")"
   ]
  },
  {
   "cell_type": "code",
   "execution_count": 3,
   "id": "3cb2bf1b-0487-4f87-994a-2af70e68d336",
   "metadata": {},
   "outputs": [],
   "source": [
    "#Now, we add the extra zeros to GEO_FIPS column\n",
    "df['Geo_FIPS'] = df['Geo_FIPS'].str.zfill(11)"
   ]
  },
  {
   "cell_type": "code",
   "execution_count": 4,
   "id": "c53eac7c-38a7-4dab-bdbf-705374815566",
   "metadata": {},
   "outputs": [],
   "source": [
    "#Choosing the columns I want to keep\n",
    "columns_to_keep = ['Geo_FIPS','SE_A10035_001','PCT_SE_A10035_002','PCT_SE_A10035_003','PCT_SE_A10035_004','PCT_SE_A10035_005','PCT_SE_A10035_006','PCT_SE_A10035_007','PCT_SE_A10035_008','PCT_SE_A10035_009','PCT_SE_A10035_010']"
   ]
  },
  {
   "cell_type": "code",
   "execution_count": 5,
   "id": "54c660f4-c721-4ccc-a333-3908f8e07bef",
   "metadata": {},
   "outputs": [],
   "source": [
    "#Saving the columns I want to keep as a variable\n",
    "df2 = df[columns_to_keep]"
   ]
  },
  {
   "cell_type": "code",
   "execution_count": 6,
   "id": "ce7450b3-7d84-4598-bb71-dd03a8645379",
   "metadata": {},
   "outputs": [],
   "source": [
    "#Changing the name of the Columns\n",
    "df2.columns= ['FIPS',\n",
    "              'All Owner-Occupied Units',\n",
    "'Less than $20K',\n",
    "'$20K-49K',\n",
    "'50K-99K',\n",
    "'100K-149K',\n",
    "'150K-299K',\n",
    "'300K-499K',\n",
    "'500K-$749K',\n",
    "'$750K-$999K',\n",
    "'More than $1Million']"
   ]
  },
  {
   "cell_type": "code",
   "execution_count": 7,
   "id": "82453557-35ae-4395-823e-f09cc8efa8d4",
   "metadata": {},
   "outputs": [
    {
     "data": {
      "text/html": [
       "<div>\n",
       "<style scoped>\n",
       "    .dataframe tbody tr th:only-of-type {\n",
       "        vertical-align: middle;\n",
       "    }\n",
       "\n",
       "    .dataframe tbody tr th {\n",
       "        vertical-align: top;\n",
       "    }\n",
       "\n",
       "    .dataframe thead th {\n",
       "        text-align: right;\n",
       "    }\n",
       "</style>\n",
       "<table border=\"1\" class=\"dataframe\">\n",
       "  <thead>\n",
       "    <tr style=\"text-align: right;\">\n",
       "      <th></th>\n",
       "      <th>FIPS</th>\n",
       "      <th>All Owner-Occupied Units</th>\n",
       "      <th>Less than $20K</th>\n",
       "      <th>$20K-49K</th>\n",
       "      <th>50K-99K</th>\n",
       "      <th>100K-149K</th>\n",
       "      <th>150K-299K</th>\n",
       "      <th>300K-499K</th>\n",
       "      <th>500K-$749K</th>\n",
       "      <th>$750K-$999K</th>\n",
       "      <th>More than $1Million</th>\n",
       "    </tr>\n",
       "  </thead>\n",
       "  <tbody>\n",
       "    <tr>\n",
       "      <th>0</th>\n",
       "      <td>06037101110</td>\n",
       "      <td>840</td>\n",
       "      <td>4.88</td>\n",
       "      <td>0.0</td>\n",
       "      <td>0.0</td>\n",
       "      <td>0.0</td>\n",
       "      <td>2.74</td>\n",
       "      <td>23.81</td>\n",
       "      <td>36.43</td>\n",
       "      <td>20.95</td>\n",
       "      <td>11.19</td>\n",
       "    </tr>\n",
       "    <tr>\n",
       "      <th>1</th>\n",
       "      <td>06037101122</td>\n",
       "      <td>1039</td>\n",
       "      <td>0.00</td>\n",
       "      <td>0.0</td>\n",
       "      <td>0.0</td>\n",
       "      <td>0.0</td>\n",
       "      <td>0.00</td>\n",
       "      <td>5.29</td>\n",
       "      <td>20.31</td>\n",
       "      <td>54.67</td>\n",
       "      <td>19.73</td>\n",
       "    </tr>\n",
       "    <tr>\n",
       "      <th>2</th>\n",
       "      <td>06037101220</td>\n",
       "      <td>582</td>\n",
       "      <td>2.06</td>\n",
       "      <td>0.0</td>\n",
       "      <td>0.0</td>\n",
       "      <td>0.0</td>\n",
       "      <td>1.89</td>\n",
       "      <td>12.20</td>\n",
       "      <td>58.25</td>\n",
       "      <td>19.24</td>\n",
       "      <td>6.36</td>\n",
       "    </tr>\n",
       "    <tr>\n",
       "      <th>3</th>\n",
       "      <td>06037101221</td>\n",
       "      <td>347</td>\n",
       "      <td>0.00</td>\n",
       "      <td>0.0</td>\n",
       "      <td>0.0</td>\n",
       "      <td>0.0</td>\n",
       "      <td>29.68</td>\n",
       "      <td>8.65</td>\n",
       "      <td>57.93</td>\n",
       "      <td>3.75</td>\n",
       "      <td>0.00</td>\n",
       "    </tr>\n",
       "    <tr>\n",
       "      <th>4</th>\n",
       "      <td>06037101222</td>\n",
       "      <td>31</td>\n",
       "      <td>77.42</td>\n",
       "      <td>0.0</td>\n",
       "      <td>0.0</td>\n",
       "      <td>0.0</td>\n",
       "      <td>0.00</td>\n",
       "      <td>0.00</td>\n",
       "      <td>22.58</td>\n",
       "      <td>0.00</td>\n",
       "      <td>0.00</td>\n",
       "    </tr>\n",
       "  </tbody>\n",
       "</table>\n",
       "</div>"
      ],
      "text/plain": [
       "          FIPS  All Owner-Occupied Units  Less than $20K  $20K-49K  50K-99K  \\\n",
       "0  06037101110                       840            4.88       0.0      0.0   \n",
       "1  06037101122                      1039            0.00       0.0      0.0   \n",
       "2  06037101220                       582            2.06       0.0      0.0   \n",
       "3  06037101221                       347            0.00       0.0      0.0   \n",
       "4  06037101222                        31           77.42       0.0      0.0   \n",
       "\n",
       "   100K-149K  150K-299K  300K-499K  500K-$749K  $750K-$999K  \\\n",
       "0        0.0       2.74      23.81       36.43        20.95   \n",
       "1        0.0       0.00       5.29       20.31        54.67   \n",
       "2        0.0       1.89      12.20       58.25        19.24   \n",
       "3        0.0      29.68       8.65       57.93         3.75   \n",
       "4        0.0       0.00       0.00       22.58         0.00   \n",
       "\n",
       "   More than $1Million  \n",
       "0                11.19  \n",
       "1                19.73  \n",
       "2                 6.36  \n",
       "3                 0.00  \n",
       "4                 0.00  "
      ]
     },
     "execution_count": 7,
     "metadata": {},
     "output_type": "execute_result"
    }
   ],
   "source": [
    "df2.head(5)"
   ]
  },
  {
   "cell_type": "code",
   "execution_count": 8,
   "id": "9f508912-dbd9-4dd6-a72a-0e1c4ef7f3b9",
   "metadata": {},
   "outputs": [
    {
     "name": "stdout",
     "output_type": "stream",
     "text": [
      "<class 'pandas.core.frame.DataFrame'>\n",
      "RangeIndex: 2498 entries, 0 to 2497\n",
      "Data columns (total 11 columns):\n",
      " #   Column                    Non-Null Count  Dtype  \n",
      "---  ------                    --------------  -----  \n",
      " 0   FIPS                      2498 non-null   object \n",
      " 1   All Owner-Occupied Units  2498 non-null   int64  \n",
      " 2   Less than $20K            2428 non-null   float64\n",
      " 3   $20K-49K                  2428 non-null   float64\n",
      " 4   50K-99K                   2428 non-null   float64\n",
      " 5   100K-149K                 2428 non-null   float64\n",
      " 6   150K-299K                 2428 non-null   float64\n",
      " 7   300K-499K                 2428 non-null   float64\n",
      " 8   500K-$749K                2428 non-null   float64\n",
      " 9   $750K-$999K               2428 non-null   float64\n",
      " 10  More than $1Million       2428 non-null   float64\n",
      "dtypes: float64(9), int64(1), object(1)\n",
      "memory usage: 214.8+ KB\n"
     ]
    }
   ],
   "source": [
    "df2.info()"
   ]
  },
  {
   "cell_type": "code",
   "execution_count": 9,
   "id": "f5c48eab-0945-48f8-aba8-21cf7002d130",
   "metadata": {},
   "outputs": [
    {
     "data": {
      "text/plain": [
       "<Axes: ylabel='Frequency'>"
      ]
     },
     "execution_count": 9,
     "metadata": {},
     "output_type": "execute_result"
    },
    {
     "data": {
      "image/png": "[encoded data removed]",
      "text/plain": [
       "<Figure size 640x480 with 1 Axes>"
      ]
     },
     "metadata": {},
     "output_type": "display_data"
    }
   ],
   "source": [
    "df2['$750K-$999K'].plot.hist(bins=40) "
   ]
  },
  {
   "cell_type": "code",
   "execution_count": 10,
   "id": "761bb828-69aa-48f2-b0d2-9346b7948a38",
   "metadata": {},
   "outputs": [],
   "source": [
    "#I am interpretating this as saying that in most census tracts, there is >20 observations of single-family homes with a value of $750K-$999k. Which is interesting, since, later in the growth, there seems to be some cooelation with oil wells present and observations of homes valued at $750K-$999K. However, when checking by % of all single-family housing in LA, ther is far less coorelation."
   ]
  },
  {
   "cell_type": "code",
   "execution_count": 11,
   "id": "302eb258-c366-45a2-8152-930839229561",
   "metadata": {},
   "outputs": [],
   "source": [
    "df_sorted = df2.sort_values(by='$750K-$999K',ascending = False)"
   ]
  },
  {
   "cell_type": "code",
   "execution_count": 12,
   "id": "51297bed-b1aa-44b1-89e1-80a4a450adbf",
   "metadata": {},
   "outputs": [
    {
     "data": {
      "text/html": [
       "<div>\n",
       "<style scoped>\n",
       "    .dataframe tbody tr th:only-of-type {\n",
       "        vertical-align: middle;\n",
       "    }\n",
       "\n",
       "    .dataframe tbody tr th {\n",
       "        vertical-align: top;\n",
       "    }\n",
       "\n",
       "    .dataframe thead th {\n",
       "        text-align: right;\n",
       "    }\n",
       "</style>\n",
       "<table border=\"1\" class=\"dataframe\">\n",
       "  <thead>\n",
       "    <tr style=\"text-align: right;\">\n",
       "      <th></th>\n",
       "      <th>FIPS</th>\n",
       "      <th>$750K-$999K</th>\n",
       "    </tr>\n",
       "  </thead>\n",
       "  <tbody>\n",
       "    <tr>\n",
       "      <th>590</th>\n",
       "      <td>06037206303</td>\n",
       "      <td>100.00</td>\n",
       "    </tr>\n",
       "    <tr>\n",
       "      <th>588</th>\n",
       "      <td>06037206301</td>\n",
       "      <td>100.00</td>\n",
       "    </tr>\n",
       "    <tr>\n",
       "      <th>618</th>\n",
       "      <td>06037208720</td>\n",
       "      <td>100.00</td>\n",
       "    </tr>\n",
       "    <tr>\n",
       "      <th>452</th>\n",
       "      <td>06037189904</td>\n",
       "      <td>100.00</td>\n",
       "    </tr>\n",
       "    <tr>\n",
       "      <th>581</th>\n",
       "      <td>06037206050</td>\n",
       "      <td>100.00</td>\n",
       "    </tr>\n",
       "    <tr>\n",
       "      <th>642</th>\n",
       "      <td>06037211123</td>\n",
       "      <td>100.00</td>\n",
       "    </tr>\n",
       "    <tr>\n",
       "      <th>613</th>\n",
       "      <td>06037208501</td>\n",
       "      <td>88.46</td>\n",
       "    </tr>\n",
       "    <tr>\n",
       "      <th>764</th>\n",
       "      <td>06037224200</td>\n",
       "      <td>88.33</td>\n",
       "    </tr>\n",
       "    <tr>\n",
       "      <th>2239</th>\n",
       "      <td>06037700200</td>\n",
       "      <td>88.15</td>\n",
       "    </tr>\n",
       "    <tr>\n",
       "      <th>454</th>\n",
       "      <td>06037189906</td>\n",
       "      <td>87.67</td>\n",
       "    </tr>\n",
       "  </tbody>\n",
       "</table>\n",
       "</div>"
      ],
      "text/plain": [
       "             FIPS  $750K-$999K\n",
       "590   06037206303       100.00\n",
       "588   06037206301       100.00\n",
       "618   06037208720       100.00\n",
       "452   06037189904       100.00\n",
       "581   06037206050       100.00\n",
       "642   06037211123       100.00\n",
       "613   06037208501        88.46\n",
       "764   06037224200        88.33\n",
       "2239  06037700200        88.15\n",
       "454   06037189906        87.67"
      ]
     },
     "execution_count": 12,
     "metadata": {},
     "output_type": "execute_result"
    }
   ],
   "source": [
    "df_sorted[['FIPS','$750K-$999K']].head(10)"
   ]
  },
  {
   "cell_type": "code",
   "execution_count": 13,
   "id": "dff8803d-af5a-4b21-8d17-065da72f8f15",
   "metadata": {},
   "outputs": [
    {
     "data": {
      "text/plain": [
       "<Axes: title={'center': 'Top 10 Census Tracts with Housing Values of $750K-$999K in Los Angeles County in 2022'}, xlabel='FIPS'>"
      ]
     },
     "execution_count": 13,
     "metadata": {},
     "output_type": "execute_result"
    },
    {
     "data": {
      "image/png": "[encoded data removed]",
      "text/plain": [
       "<Figure size 640x480 with 1 Axes>"
      ]
     },
     "metadata": {},
     "output_type": "display_data"
    }
   ],
   "source": [
    "df_sorted.head(10).plot.bar(x='FIPS',\n",
    "                             y='$750K-$999K',\n",
    "                            title='Top 10 Census Tracts with Housing Values of $750K-$999K in Los Angeles County in 2022',\n",
    "                            color='orange')"
   ]
  },
  {
   "cell_type": "code",
   "execution_count": 14,
   "id": "d8685d47-73fb-4653-8212-243d9b103a33",
   "metadata": {},
   "outputs": [],
   "source": [
    "import geopandas as gpd"
   ]
  },
  {
   "cell_type": "code",
   "execution_count": 15,
   "id": "192aeeb7-1184-4cf8-bace-c195044e7a1b",
   "metadata": {},
   "outputs": [
    {
     "name": "stderr",
     "output_type": "stream",
     "text": [
      "ERROR 1: PROJ: proj_create_from_database: Open of /opt/conda/share/proj failed\n"
     ]
    },
    {
     "data": {
      "text/html": [
       "<div>\n",
       "<style scoped>\n",
       "    .dataframe tbody tr th:only-of-type {\n",
       "        vertical-align: middle;\n",
       "    }\n",
       "\n",
       "    .dataframe tbody tr th {\n",
       "        vertical-align: top;\n",
       "    }\n",
       "\n",
       "    .dataframe thead th {\n",
       "        text-align: right;\n",
       "    }\n",
       "</style>\n",
       "<table border=\"1\" class=\"dataframe\">\n",
       "  <thead>\n",
       "    <tr style=\"text-align: right;\">\n",
       "      <th></th>\n",
       "      <th>OBJECTID</th>\n",
       "      <th>CT20</th>\n",
       "      <th>LABEL</th>\n",
       "      <th>ShapeSTArea</th>\n",
       "      <th>ShapeSTLength</th>\n",
       "      <th>geometry</th>\n",
       "    </tr>\n",
       "  </thead>\n",
       "  <tbody>\n",
       "    <tr>\n",
       "      <th>0</th>\n",
       "      <td>1</td>\n",
       "      <td>101110</td>\n",
       "      <td>1011.10</td>\n",
       "      <td>1.229562e+07</td>\n",
       "      <td>15083.854287</td>\n",
       "      <td>POLYGON ((-118.28491 34.25948, -118.28492 34.2...</td>\n",
       "    </tr>\n",
       "    <tr>\n",
       "      <th>1</th>\n",
       "      <td>2</td>\n",
       "      <td>101122</td>\n",
       "      <td>1011.22</td>\n",
       "      <td>2.845774e+07</td>\n",
       "      <td>31671.455844</td>\n",
       "      <td>POLYGON ((-118.29015 34.27417, -118.29015 34.2...</td>\n",
       "    </tr>\n",
       "    <tr>\n",
       "      <th>2</th>\n",
       "      <td>3</td>\n",
       "      <td>101220</td>\n",
       "      <td>1012.20</td>\n",
       "      <td>7.522093e+06</td>\n",
       "      <td>12698.783810</td>\n",
       "      <td>POLYGON ((-118.28100 34.25592, -118.28198 34.2...</td>\n",
       "    </tr>\n",
       "    <tr>\n",
       "      <th>3</th>\n",
       "      <td>4</td>\n",
       "      <td>101221</td>\n",
       "      <td>1012.21</td>\n",
       "      <td>3.812000e+06</td>\n",
       "      <td>9161.710543</td>\n",
       "      <td>POLYGON ((-118.28735 34.25591, -118.28863 34.2...</td>\n",
       "    </tr>\n",
       "    <tr>\n",
       "      <th>4</th>\n",
       "      <td>5</td>\n",
       "      <td>101222</td>\n",
       "      <td>1012.22</td>\n",
       "      <td>3.191371e+06</td>\n",
       "      <td>9980.600461</td>\n",
       "      <td>POLYGON ((-118.28594 34.25405, -118.28594 34.2...</td>\n",
       "    </tr>\n",
       "  </tbody>\n",
       "</table>\n",
       "</div>"
      ],
      "text/plain": [
       "   OBJECTID    CT20    LABEL   ShapeSTArea  ShapeSTLength  \\\n",
       "0         1  101110  1011.10  1.229562e+07   15083.854287   \n",
       "1         2  101122  1011.22  2.845774e+07   31671.455844   \n",
       "2         3  101220  1012.20  7.522093e+06   12698.783810   \n",
       "3         4  101221  1012.21  3.812000e+06    9161.710543   \n",
       "4         5  101222  1012.22  3.191371e+06    9980.600461   \n",
       "\n",
       "                                            geometry  \n",
       "0  POLYGON ((-118.28491 34.25948, -118.28492 34.2...  \n",
       "1  POLYGON ((-118.29015 34.27417, -118.29015 34.2...  \n",
       "2  POLYGON ((-118.28100 34.25592, -118.28198 34.2...  \n",
       "3  POLYGON ((-118.28735 34.25591, -118.28863 34.2...  \n",
       "4  POLYGON ((-118.28594 34.25405, -118.28594 34.2...  "
      ]
     },
     "execution_count": 15,
     "metadata": {},
     "output_type": "execute_result"
    }
   ],
   "source": [
    "#creating a variable for the geojson with census tracts\n",
    "tracts=gpd.read_file('Census_Tracts_2020.geojson')\n",
    "tracts.head()"
   ]
  },
  {
   "cell_type": "code",
   "execution_count": 16,
   "id": "8141caa2-e59a-4102-ac34-c66483d77ebf",
   "metadata": {},
   "outputs": [
    {
     "data": {
      "text/html": [
       "<div>\n",
       "<style scoped>\n",
       "    .dataframe tbody tr th:only-of-type {\n",
       "        vertical-align: middle;\n",
       "    }\n",
       "\n",
       "    .dataframe tbody tr th {\n",
       "        vertical-align: top;\n",
       "    }\n",
       "\n",
       "    .dataframe thead th {\n",
       "        text-align: right;\n",
       "    }\n",
       "</style>\n",
       "<table border=\"1\" class=\"dataframe\">\n",
       "  <thead>\n",
       "    <tr style=\"text-align: right;\">\n",
       "      <th></th>\n",
       "      <th>CT20</th>\n",
       "      <th>geometry</th>\n",
       "    </tr>\n",
       "  </thead>\n",
       "  <tbody>\n",
       "    <tr>\n",
       "      <th>0</th>\n",
       "      <td>101110</td>\n",
       "      <td>POLYGON ((-118.28491 34.25948, -118.28492 34.2...</td>\n",
       "    </tr>\n",
       "    <tr>\n",
       "      <th>1</th>\n",
       "      <td>101122</td>\n",
       "      <td>POLYGON ((-118.29015 34.27417, -118.29015 34.2...</td>\n",
       "    </tr>\n",
       "    <tr>\n",
       "      <th>2</th>\n",
       "      <td>101220</td>\n",
       "      <td>POLYGON ((-118.28100 34.25592, -118.28198 34.2...</td>\n",
       "    </tr>\n",
       "    <tr>\n",
       "      <th>3</th>\n",
       "      <td>101221</td>\n",
       "      <td>POLYGON ((-118.28735 34.25591, -118.28863 34.2...</td>\n",
       "    </tr>\n",
       "    <tr>\n",
       "      <th>4</th>\n",
       "      <td>101222</td>\n",
       "      <td>POLYGON ((-118.28594 34.25405, -118.28594 34.2...</td>\n",
       "    </tr>\n",
       "  </tbody>\n",
       "</table>\n",
       "</div>"
      ],
      "text/plain": [
       "     CT20                                           geometry\n",
       "0  101110  POLYGON ((-118.28491 34.25948, -118.28492 34.2...\n",
       "1  101122  POLYGON ((-118.29015 34.27417, -118.29015 34.2...\n",
       "2  101220  POLYGON ((-118.28100 34.25592, -118.28198 34.2...\n",
       "3  101221  POLYGON ((-118.28735 34.25591, -118.28863 34.2...\n",
       "4  101222  POLYGON ((-118.28594 34.25405, -118.28594 34.2..."
      ]
     },
     "execution_count": 16,
     "metadata": {},
     "output_type": "execute_result"
    }
   ],
   "source": [
    "tracts = tracts[['CT20','geometry']]\n",
    "tracts.head()"
   ]
  },
  {
   "cell_type": "code",
   "execution_count": 17,
   "id": "9ae1c7c1-18ee-45ab-9253-f79f71787dbd",
   "metadata": {},
   "outputs": [],
   "source": [
    "tracts['FIPS'] ='06' + '037' + tracts['CT20']"
   ]
  },
  {
   "cell_type": "code",
   "execution_count": 18,
   "id": "448d242c-3a85-4b92-9d0b-84c87b089ac1",
   "metadata": {},
   "outputs": [
    {
     "data": {
      "text/html": [
       "<div>\n",
       "<style scoped>\n",
       "    .dataframe tbody tr th:only-of-type {\n",
       "        vertical-align: middle;\n",
       "    }\n",
       "\n",
       "    .dataframe tbody tr th {\n",
       "        vertical-align: top;\n",
       "    }\n",
       "\n",
       "    .dataframe thead th {\n",
       "        text-align: right;\n",
       "    }\n",
       "</style>\n",
       "<table border=\"1\" class=\"dataframe\">\n",
       "  <thead>\n",
       "    <tr style=\"text-align: right;\">\n",
       "      <th></th>\n",
       "      <th>CT20</th>\n",
       "      <th>geometry</th>\n",
       "      <th>FIPS</th>\n",
       "    </tr>\n",
       "  </thead>\n",
       "  <tbody>\n",
       "    <tr>\n",
       "      <th>0</th>\n",
       "      <td>101110</td>\n",
       "      <td>POLYGON ((-118.28491 34.25948, -118.28492 34.2...</td>\n",
       "      <td>06037101110</td>\n",
       "    </tr>\n",
       "    <tr>\n",
       "      <th>1</th>\n",
       "      <td>101122</td>\n",
       "      <td>POLYGON ((-118.29015 34.27417, -118.29015 34.2...</td>\n",
       "      <td>06037101122</td>\n",
       "    </tr>\n",
       "    <tr>\n",
       "      <th>2</th>\n",
       "      <td>101220</td>\n",
       "      <td>POLYGON ((-118.28100 34.25592, -118.28198 34.2...</td>\n",
       "      <td>06037101220</td>\n",
       "    </tr>\n",
       "    <tr>\n",
       "      <th>3</th>\n",
       "      <td>101221</td>\n",
       "      <td>POLYGON ((-118.28735 34.25591, -118.28863 34.2...</td>\n",
       "      <td>06037101221</td>\n",
       "    </tr>\n",
       "    <tr>\n",
       "      <th>4</th>\n",
       "      <td>101222</td>\n",
       "      <td>POLYGON ((-118.28594 34.25405, -118.28594 34.2...</td>\n",
       "      <td>06037101222</td>\n",
       "    </tr>\n",
       "  </tbody>\n",
       "</table>\n",
       "</div>"
      ],
      "text/plain": [
       "     CT20                                           geometry         FIPS\n",
       "0  101110  POLYGON ((-118.28491 34.25948, -118.28492 34.2...  06037101110\n",
       "1  101122  POLYGON ((-118.29015 34.27417, -118.29015 34.2...  06037101122\n",
       "2  101220  POLYGON ((-118.28100 34.25592, -118.28198 34.2...  06037101220\n",
       "3  101221  POLYGON ((-118.28735 34.25591, -118.28863 34.2...  06037101221\n",
       "4  101222  POLYGON ((-118.28594 34.25405, -118.28594 34.2...  06037101222"
      ]
     },
     "execution_count": 18,
     "metadata": {},
     "output_type": "execute_result"
    }
   ],
   "source": [
    "tracts.head()"
   ]
  },
  {
   "cell_type": "code",
   "execution_count": 19,
   "id": "d38f6b14-63e2-435a-b8c0-ee4e70f2c198",
   "metadata": {},
   "outputs": [],
   "source": [
    "#Now, I merge the two into one new dataframe\n",
    "tracts_750K=tracts.merge(df2,on=\"FIPS\")"
   ]
  },
  {
   "cell_type": "code",
   "execution_count": 20,
   "id": "1133569c-5821-4ba9-b316-7eccde64db5e",
   "metadata": {},
   "outputs": [
    {
     "data": {
      "text/html": [
       "<div>\n",
       "<style scoped>\n",
       "    .dataframe tbody tr th:only-of-type {\n",
       "        vertical-align: middle;\n",
       "    }\n",
       "\n",
       "    .dataframe tbody tr th {\n",
       "        vertical-align: top;\n",
       "    }\n",
       "\n",
       "    .dataframe thead th {\n",
       "        text-align: right;\n",
       "    }\n",
       "</style>\n",
       "<table border=\"1\" class=\"dataframe\">\n",
       "  <thead>\n",
       "    <tr style=\"text-align: right;\">\n",
       "      <th></th>\n",
       "      <th>CT20</th>\n",
       "      <th>geometry</th>\n",
       "      <th>FIPS</th>\n",
       "      <th>All Owner-Occupied Units</th>\n",
       "      <th>Less than $20K</th>\n",
       "      <th>$20K-49K</th>\n",
       "      <th>50K-99K</th>\n",
       "      <th>100K-149K</th>\n",
       "      <th>150K-299K</th>\n",
       "      <th>300K-499K</th>\n",
       "      <th>500K-$749K</th>\n",
       "      <th>$750K-$999K</th>\n",
       "      <th>More than $1Million</th>\n",
       "    </tr>\n",
       "  </thead>\n",
       "  <tbody>\n",
       "    <tr>\n",
       "      <th>0</th>\n",
       "      <td>101110</td>\n",
       "      <td>POLYGON ((-118.28491 34.25948, -118.28492 34.2...</td>\n",
       "      <td>06037101110</td>\n",
       "      <td>840</td>\n",
       "      <td>4.88</td>\n",
       "      <td>0.0</td>\n",
       "      <td>0.0</td>\n",
       "      <td>0.0</td>\n",
       "      <td>2.74</td>\n",
       "      <td>23.81</td>\n",
       "      <td>36.43</td>\n",
       "      <td>20.95</td>\n",
       "      <td>11.19</td>\n",
       "    </tr>\n",
       "    <tr>\n",
       "      <th>1</th>\n",
       "      <td>101122</td>\n",
       "      <td>POLYGON ((-118.29015 34.27417, -118.29015 34.2...</td>\n",
       "      <td>06037101122</td>\n",
       "      <td>1039</td>\n",
       "      <td>0.00</td>\n",
       "      <td>0.0</td>\n",
       "      <td>0.0</td>\n",
       "      <td>0.0</td>\n",
       "      <td>0.00</td>\n",
       "      <td>5.29</td>\n",
       "      <td>20.31</td>\n",
       "      <td>54.67</td>\n",
       "      <td>19.73</td>\n",
       "    </tr>\n",
       "    <tr>\n",
       "      <th>2</th>\n",
       "      <td>101220</td>\n",
       "      <td>POLYGON ((-118.28100 34.25592, -118.28198 34.2...</td>\n",
       "      <td>06037101220</td>\n",
       "      <td>582</td>\n",
       "      <td>2.06</td>\n",
       "      <td>0.0</td>\n",
       "      <td>0.0</td>\n",
       "      <td>0.0</td>\n",
       "      <td>1.89</td>\n",
       "      <td>12.20</td>\n",
       "      <td>58.25</td>\n",
       "      <td>19.24</td>\n",
       "      <td>6.36</td>\n",
       "    </tr>\n",
       "    <tr>\n",
       "      <th>3</th>\n",
       "      <td>101221</td>\n",
       "      <td>POLYGON ((-118.28735 34.25591, -118.28863 34.2...</td>\n",
       "      <td>06037101221</td>\n",
       "      <td>347</td>\n",
       "      <td>0.00</td>\n",
       "      <td>0.0</td>\n",
       "      <td>0.0</td>\n",
       "      <td>0.0</td>\n",
       "      <td>29.68</td>\n",
       "      <td>8.65</td>\n",
       "      <td>57.93</td>\n",
       "      <td>3.75</td>\n",
       "      <td>0.00</td>\n",
       "    </tr>\n",
       "    <tr>\n",
       "      <th>4</th>\n",
       "      <td>101222</td>\n",
       "      <td>POLYGON ((-118.28594 34.25405, -118.28594 34.2...</td>\n",
       "      <td>06037101222</td>\n",
       "      <td>31</td>\n",
       "      <td>77.42</td>\n",
       "      <td>0.0</td>\n",
       "      <td>0.0</td>\n",
       "      <td>0.0</td>\n",
       "      <td>0.00</td>\n",
       "      <td>0.00</td>\n",
       "      <td>22.58</td>\n",
       "      <td>0.00</td>\n",
       "      <td>0.00</td>\n",
       "    </tr>\n",
       "  </tbody>\n",
       "</table>\n",
       "</div>"
      ],
      "text/plain": [
       "     CT20                                           geometry         FIPS  \\\n",
       "0  101110  POLYGON ((-118.28491 34.25948, -118.28492 34.2...  06037101110   \n",
       "1  101122  POLYGON ((-118.29015 34.27417, -118.29015 34.2...  06037101122   \n",
       "2  101220  POLYGON ((-118.28100 34.25592, -118.28198 34.2...  06037101220   \n",
       "3  101221  POLYGON ((-118.28735 34.25591, -118.28863 34.2...  06037101221   \n",
       "4  101222  POLYGON ((-118.28594 34.25405, -118.28594 34.2...  06037101222   \n",
       "\n",
       "   All Owner-Occupied Units  Less than $20K  $20K-49K  50K-99K  100K-149K  \\\n",
       "0                       840            4.88       0.0      0.0        0.0   \n",
       "1                      1039            0.00       0.0      0.0        0.0   \n",
       "2                       582            2.06       0.0      0.0        0.0   \n",
       "3                       347            0.00       0.0      0.0        0.0   \n",
       "4                        31           77.42       0.0      0.0        0.0   \n",
       "\n",
       "   150K-299K  300K-499K  500K-$749K  $750K-$999K  More than $1Million  \n",
       "0       2.74      23.81       36.43        20.95                11.19  \n",
       "1       0.00       5.29       20.31        54.67                19.73  \n",
       "2       1.89      12.20       58.25        19.24                 6.36  \n",
       "3      29.68       8.65       57.93         3.75                 0.00  \n",
       "4       0.00       0.00       22.58         0.00                 0.00  "
      ]
     },
     "execution_count": 20,
     "metadata": {},
     "output_type": "execute_result"
    }
   ],
   "source": [
    "#and confirm if it worked the way I hoped\n",
    "tracts_750K.head()"
   ]
  },
  {
   "cell_type": "code",
   "execution_count": 21,
   "id": "7b7b0072-055f-4c6d-8d0c-66e3f177c56c",
   "metadata": {},
   "outputs": [],
   "source": [
    "tracts_750K['PCT_750'] = tracts_750K['$750K-$999K']/tracts_750K['All Owner-Occupied Units']*100\n"
   ]
  },
  {
   "cell_type": "code",
   "execution_count": 22,
   "id": "3cb11bbc-3f59-4fc9-83be-4ec76c1acb2d",
   "metadata": {},
   "outputs": [
    {
     "data": {
      "text/plain": [
       "<Geographic 2D CRS: EPSG:4326>\n",
       "Name: WGS 84\n",
       "Axis Info [ellipsoidal]:\n",
       "- Lat[north]: Geodetic latitude (degree)\n",
       "- Lon[east]: Geodetic longitude (degree)\n",
       "Area of Use:\n",
       "- name: World.\n",
       "- bounds: (-180.0, -90.0, 180.0, 90.0)\n",
       "Datum: World Geodetic System 1984 ensemble\n",
       "- Ellipsoid: WGS 84\n",
       "- Prime Meridian: Greenwich"
      ]
     },
     "execution_count": 22,
     "metadata": {},
     "output_type": "execute_result"
    }
   ],
   "source": [
    "tracts_750K.crs"
   ]
  },
  {
   "cell_type": "code",
   "execution_count": 23,
   "id": "084876b3-fc46-40d0-b033-fdb18a71aad3",
   "metadata": {},
   "outputs": [],
   "source": [
    "df = pd.read_csv('Oil_Wells.csv')"
   ]
  },
  {
   "cell_type": "code",
   "execution_count": 24,
   "id": "02869a82-93a3-4790-b75e-dd2ade637604",
   "metadata": {},
   "outputs": [],
   "source": [
    "gdf = gpd.GeoDataFrame(df, \n",
    "                       crs='epsg:4326',\n",
    "                       geometry=gpd.points_from_xy(df.Longitude, df.Latitude))"
   ]
  },
  {
   "cell_type": "code",
   "execution_count": 25,
   "id": "70c9786f-ddc7-4c38-a6b5-8b470e855ce1",
   "metadata": {},
   "outputs": [],
   "source": [
    "gdf_act = gdf.drop(gdf[gdf['WellStatus'] != 'A'].index)"
   ]
  },
  {
   "cell_type": "code",
   "execution_count": 26,
   "id": "d15862fc-5c74-4da8-a78a-f387c9fccd27",
   "metadata": {},
   "outputs": [],
   "source": [
    "import matplotlib.pyplot as plt"
   ]
  },
  {
   "cell_type": "code",
   "execution_count": 27,
   "id": "71730427-4cc1-4cc7-8b08-3752cdaf9362",
   "metadata": {},
   "outputs": [],
   "source": [
    "import folium"
   ]
  },
  {
   "cell_type": "code",
   "execution_count": 31,
   "id": "c11f4ca9-c4d3-44f9-970a-206778440ffa",
   "metadata": {},
   "outputs": [],
   "source": [
    "m = folium.Map(location=[34.2,-118.2], \n",
    "               zoom_start = 9,\n",
    "               tiles='CartoDB positron', \n",
    "               nan_fill_color='white',  # set nan_fill_color to 'white' for NaN values\n",
    "               attribution='CartoDB')\n",
    "\n",
    "# plot chorpleth over the base map\n",
    "folium.features.Choropleth(\n",
    "                  geo_data=tracts_750K, # geo data\n",
    "                  data=tracts_750K, # data          \n",
    "                  key_on='feature.properties.FIPS', # key, or merge column\n",
    "                  columns=['FIPS','PCT_750'], # [key, value]\n",
    "                  fill_color='PuBuGn',\n",
    "                  line_weight=0.1, \n",
    "                  fill_opacity=0.8,\n",
    "                  line_opacity=0.2, # line opacity (of the border)\n",
    "                  legend_name='%Property Values $750-999k LA (2022').add_to(m) \n",
    "\n",
    "\n",
    "#create feature group so that business layer can be added to drop down\n",
    "f2=folium.FeatureGroup(name='Oil Wells').add_to(m)\n",
    "\n",
    "# add the businesses to the feature group\n",
    "for index, row in gdf_act.iterrows():\n",
    "    folium.Circle(\n",
    "        radius=1,\n",
    "        color=\"black\",\n",
    "        location=[row.Latitude,row.Longitude], \n",
    "        overlay=False).add_to(f2)\n",
    "\n",
    "folium.LayerControl(position='topright', collapsed=True, autoZIndex=True).add_to(m)\n",
    "m.save('RawDataPrpertyValues+oil.html')"
   ]
  },
  {
   "cell_type": "code",
   "execution_count": 32,
   "id": "b6d99a7c-678a-4f8e-b9b6-4902c4a3c06e",
   "metadata": {},
   "outputs": [],
   "source": [
    "m = folium.Map(location=[34.2,-118.2], \n",
    "               zoom_start = 9,\n",
    "               tiles='CartoDB positron', \n",
    "               nan_fill_color='white',  # set nan_fill_color to 'white' for NaN values\n",
    "               attribution='CartoDB')\n",
    "\n",
    "# plot chorpleth over the base map\n",
    "folium.features.Choropleth(\n",
    "                  geo_data=tracts_750K, # geo data\n",
    "                  data=tracts_750K, # data          \n",
    "                  key_on='feature.properties.FIPS', # key, or merge column\n",
    "                  columns=['FIPS','$750K-$999K'], # [key, value]\n",
    "                  fill_color='PuBuGn',\n",
    "                  line_weight=0.1, \n",
    "                  fill_opacity=0.8,\n",
    "                  line_opacity=0.2, # line opacity (of the border)\n",
    "                  legend_name='Property Values $750-999k LA (2022').add_to(m)  \n",
    "\n",
    "#create feature group so that business layer can be added to drop down\n",
    "f2=folium.FeatureGroup(name='Oil Wells').add_to(m)\n",
    "\n",
    "# add the businesses to the feature group\n",
    "for index, row in gdf_act.iterrows():\n",
    "    folium.Circle(\n",
    "        radius=1,\n",
    "        color=\"black\",\n",
    "        location=[row.Latitude,row.Longitude], \n",
    "        overlay=False).add_to(f2)\n",
    "\n",
    "folium.LayerControl(position='topright', collapsed=True, autoZIndex=True).add_to(m)\n",
    "m.save('RawDataPrpertyValues+oil.html')"
   ]
  }
 ],
 "metadata": {
  "kernelspec": {
   "display_name": "Python 3 (ipykernel)",
   "language": "python",
   "name": "python3"
  },
  "language_info": {
   "codemirror_mode": {
    "name": "ipython",
    "version": 3
   },
   "file_extension": ".py",
   "mimetype": "text/x-python",
   "name": "python",
   "nbconvert_exporter": "python",
   "pygments_lexer": "ipython3",
   "version": "3.11.7"
  }
 },
 "nbformat": 4,
 "nbformat_minor": 5
}
