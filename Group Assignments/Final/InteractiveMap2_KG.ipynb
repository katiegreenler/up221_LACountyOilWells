{
 "cells": [
  {
   "cell_type": "markdown",
   "id": "b5ccf752-44bc-4385-9358-3416adef0b70",
   "metadata": {},
   "source": [
    "## Interactive Map - CalEnviroScreen & Oil Wells"
   ]
  },
  {
   "cell_type": "markdown",
   "id": "b23acf72-b693-4807-8441-a5f74086b633",
   "metadata": {},
   "source": [
    "# Setting up the data"
   ]
  },
  {
   "cell_type": "markdown",
   "id": "bba3599d-f662-4d3b-b5a2-23d0726c4599",
   "metadata": {},
   "source": [
    "Started by importing pandas and geopandas."
   ]
  },
  {
   "cell_type": "code",
   "execution_count": null,
   "id": "b06f1597-e02e-47f8-a1cd-4d0e8d6e87e4",
   "metadata": {},
   "outputs": [],
   "source": [
    "import pandas as pd\n",
    "import geopandas as gpd"
   ]
  },
  {
   "cell_type": "markdown",
   "id": "03f3ef43-bb4c-4c36-a4c1-81ef25661f96",
   "metadata": {},
   "source": [
    "I then ask pandas to read the file and converted a few of the location variables to strings in order to allow for some of the sorting and to zfill the information."
   ]
  },
  {
   "cell_type": "code",
   "execution_count": null,
   "id": "7f80a153-4e7a-4fcc-ba08-76acace5bc59",
   "metadata": {},
   "outputs": [],
   "source": [
    "df = pd.read_csv('Data/Calenviroscreen4.csv',\n",
    "    dtype=\n",
    "    {\n",
    "        'Census Tract':str,\n",
    "        'California County':str,\n",
    "        'Approximate Location': str\n",
    "    }\n",
    ")\n",
    "df.head()"
   ]
  },
  {
   "cell_type": "markdown",
   "id": "cb6cc439-b548-4b9b-8ac9-b1ad8f082152",
   "metadata": {},
   "source": [
    "Above, we see that the leading zero is missing from the data, so I zfilled the information and then simplified the information to location and CalEnviroscreen percentile measures."
   ]
  },
  {
   "cell_type": "code",
   "execution_count": null,
   "id": "8d5ca39e-32c4-47ed-98bf-15d384d0b9e2",
   "metadata": {},
   "outputs": [],
   "source": [
    "df['Census Tract'] = df['Census Tract'].str.zfill(11)"
   ]
  },
  {
   "cell_type": "code",
   "execution_count": null,
   "id": "42d513f5-105e-4164-8fad-0c8f616515fa",
   "metadata": {},
   "outputs": [],
   "source": [
    "df.info()"
   ]
  },
  {
   "cell_type": "code",
   "execution_count": null,
   "id": "56bd8ba2-7a4f-4c0c-8d33-d8d44aece012",
   "metadata": {},
   "outputs": [],
   "source": [
    "columns_to_keep = ['Census Tract',\n",
    "                   'Total Population',\n",
    "                   'California County',\n",
    "                   'Approximate Location',\n",
    "                   'CES 4.0 Score',\n",
    "                   'CES 4.0 Percentile',\n",
    "                   'CES 4.0 Percentile Range',\n",
    "                   'PM2.5 Pctl',\n",
    "                   'Groundwater Threats Pctl',\n",
    "                   'Asthma Pctl',\n",
    "                   'Low Birth Weight Pctl',\n",
    "                   'Unemployment Pctl',\n",
    "                   'Housing Burden Pctl',\n",
    "                   'Pollution Burden Pctl',\n",
    "                   'Drinking Water Pctl',\n",
    "                   'Tox. Release Pctl',\n",
    "                   'Cleanup Sites Pctl',\n",
    "                   'Poverty Pctl',\n",
    "                   'Housing Burden Pctl',\n",
    "                   'Cardiovascular Disease Pctl']\n",
    "df2 = df[columns_to_keep]\n",
    "df2.info"
   ]
  },
  {
   "cell_type": "markdown",
   "id": "b0ca2979-2e40-4e5a-a482-c0d57e6dad2f",
   "metadata": {},
   "source": [
    "Next, I narrow this information to the county of Los Angeles."
   ]
  },
  {
   "cell_type": "code",
   "execution_count": null,
   "id": "659d9cbf-fed7-48fb-9cc1-ed5c4fe6389a",
   "metadata": {},
   "outputs": [],
   "source": [
    "df2LA = df2[df2['California County'] == 'Los Angeles']"
   ]
  },
  {
   "cell_type": "markdown",
   "id": "ac8c2684-5073-4807-9fc9-6869803a9f2e",
   "metadata": {},
   "source": [
    "And rename the Census Tracts to a FIPS variable in order to allow for analysis using one word later on. I use the info command after renaming to confirm that the data successfully narrowed from California as a whole and that the column name was successfully changed."
   ]
  },
  {
   "cell_type": "code",
   "execution_count": null,
   "id": "256117c5-9c11-46db-86e9-ff54461aa7e9",
   "metadata": {},
   "outputs": [],
   "source": [
    "df2LA.rename(columns = {'Census Tract':'FIPS'}, inplace = True) "
   ]
  },
  {
   "cell_type": "code",
   "execution_count": null,
   "id": "d8d01a30-9c34-4c23-ac62-a17396289e84",
   "metadata": {},
   "outputs": [],
   "source": [
    "df2LA.info()"
   ]
  },
  {
   "cell_type": "markdown",
   "id": "64dbdda8-e0e4-4c2f-85ac-4b81bbc86f13",
   "metadata": {},
   "source": [
    "Next, I want to merge this information with geometry data, in this case based on census tracts, because it is the measure used in CalEnviroscreen."
   ]
  },
  {
   "cell_type": "code",
   "execution_count": null,
   "id": "23193d18-e15f-4625-8851-a7c9b4abba56",
   "metadata": {},
   "outputs": [],
   "source": [
    "tracts = gpd.read_file('Data/2020_Census_Tracts.geojson')\n",
    "tracts.head()"
   ]
  },
  {
   "cell_type": "code",
   "execution_count": null,
   "id": "ec781e80-d29a-4b2e-8b8d-02fad67b29b0",
   "metadata": {},
   "outputs": [],
   "source": [
    "tracts['FIPS'] ='06' + '037' + tracts['CT20']"
   ]
  },
  {
   "cell_type": "code",
   "execution_count": null,
   "id": "ea5eeab2-5c19-4ef5-886d-93e1cc0fcc42",
   "metadata": {},
   "outputs": [],
   "source": [
    "CEStracts=tracts.merge(df2LA,on='FIPS')"
   ]
  },
  {
   "cell_type": "markdown",
   "id": "0da043e4-f68b-4a62-8e55-5230e36ed96c",
   "metadata": {},
   "source": [
    "After this, I also confirm that the projection of the geodataframe is mercator in order to allow us to join our calenviroscreen information with information about oil wells in the county."
   ]
  },
  {
   "cell_type": "code",
   "execution_count": null,
   "id": "a7cbb381-bd90-4fef-b938-effae2238541",
   "metadata": {},
   "outputs": [],
   "source": [
    "CEStracts.crs"
   ]
  },
  {
   "cell_type": "markdown",
   "id": "b7f72815-aaa0-4e18-bf6f-cc025685ea0b",
   "metadata": {},
   "source": [
    "# Oil Wells Data"
   ]
  },
  {
   "cell_type": "markdown",
   "id": "441bc0e7-6767-4914-b55a-eb2603511508",
   "metadata": {},
   "source": [
    "Now, I am adding the oil wells data to the mix."
   ]
  },
  {
   "cell_type": "code",
   "execution_count": null,
   "id": "0bd2d36b-73a7-4969-8072-320a85c964cf",
   "metadata": {},
   "outputs": [],
   "source": [
    "dfoil = pd.read_csv('Data/Oil_Wells.csv')"
   ]
  },
  {
   "cell_type": "markdown",
   "id": "1ea16150-bc5f-4bde-a6ce-8d9ea8033224",
   "metadata": {},
   "source": [
    "I create a variable for active oil wells as well in case we add oil wells to any maps later in this file."
   ]
  },
  {
   "cell_type": "code",
   "execution_count": null,
   "id": "240e0f91-b37e-47b5-9169-7735c861e834",
   "metadata": {},
   "outputs": [],
   "source": [
    "df_act = dfoil.drop(dfoil[dfoil['WellStatus'] != 'A'].index)"
   ]
  },
  {
   "cell_type": "code",
   "execution_count": null,
   "id": "46e830c1-9713-4d17-9e01-cf06290a78da",
   "metadata": {},
   "outputs": [],
   "source": [
    "gdf_act = gpd.GeoDataFrame(df_act, \n",
    "                       crs='epsg:4326',\n",
    "                       geometry=gpd.points_from_xy(df_act.Longitude, df_act.Latitude))"
   ]
  },
  {
   "cell_type": "markdown",
   "id": "8d98d87f-dac8-4ac3-9a38-b480fd46b249",
   "metadata": {},
   "source": [
    "And now I join the oil data with CalEnviroscreen."
   ]
  },
  {
   "cell_type": "code",
   "execution_count": null,
   "id": "240da48a-9526-42d5-ab0b-d21c06839960",
   "metadata": {},
   "outputs": [],
   "source": [
    "# Perform a spatial join based on geographic coordinates\n",
    "gdfoilCES = gpd.sjoin(gdf_act, CEStracts, how='right', op='within')\n",
    "gdfoilCES.head()"
   ]
  },
  {
   "cell_type": "markdown",
   "id": "c1cc9935-887f-4b1a-92af-26a08bb2aae0",
   "metadata": {},
   "source": [
    "And I use the info command to look at the data."
   ]
  },
  {
   "cell_type": "code",
   "execution_count": null,
   "id": "4e7fd70d-1a02-46c5-abbd-9d51ca0e45e2",
   "metadata": {
    "scrolled": true
   },
   "outputs": [],
   "source": [
    "gdfoilCES.info()"
   ]
  },
  {
   "cell_type": "markdown",
   "id": "357b8573-eea9-41e9-9f69-03b11ac9129d",
   "metadata": {},
   "source": [
    "# How CES related to oil wells"
   ]
  },
  {
   "cell_type": "code",
   "execution_count": null,
   "id": "f0945ca6-09a8-4407-b905-d623e200c1e0",
   "metadata": {},
   "outputs": [],
   "source": [
    "oilwellsbytract = gdfoilCES.FIPS.value_counts().rename_axis('FIPS').reset_index(name='oilwell_count')"
   ]
  },
  {
   "cell_type": "code",
   "execution_count": null,
   "id": "d63cad7d-3c7a-430c-88ca-d70776be9d1f",
   "metadata": {},
   "outputs": [],
   "source": [
    "oilwellsbytract.info()"
   ]
  },
  {
   "cell_type": "code",
   "execution_count": null,
   "id": "b4bf6c5b-9c92-4bc5-be0c-c2e72c9de838",
   "metadata": {},
   "outputs": [],
   "source": [
    "# join the summary table back to the gdf\n",
    "gdfoilCES=gdfoilCES.merge(oilwellsbytract,on='FIPS')"
   ]
  },
  {
   "cell_type": "markdown",
   "id": "4db5b13e-623c-4a5c-9962-e22e484764ac",
   "metadata": {},
   "source": [
    "It doesn't make sense to adjust for population like we did in the lab as this feature of oil well count does not need to be adjusted by the number of people. So, next step is just to confirm that the merge worked, which it did."
   ]
  },
  {
   "cell_type": "code",
   "execution_count": null,
   "id": "da994835-a801-4b9e-b26a-18eb4999b937",
   "metadata": {},
   "outputs": [],
   "source": [
    "gdfoilCES.info()"
   ]
  },
  {
   "cell_type": "code",
   "execution_count": null,
   "id": "f3f7d91e-1a87-462c-8db1-4808fd258fed",
   "metadata": {},
   "outputs": [],
   "source": [
    "columnsfull = ['ShapeSTArea',\n",
    "               'ShapeSTLength',\n",
    "               'geometry',\n",
    "                    'FIPS',\n",
    "                  'Total Population',\n",
    "                   'California County',\n",
    "                   'Approximate Location',\n",
    "                   'CES 4.0 Score',\n",
    "                   'CES 4.0 Percentile',\n",
    "                   'CES 4.0 Percentile Range',\n",
    "                   'PM2.5 Pctl',\n",
    "                   'Groundwater Threats Pctl',\n",
    "                   'Asthma Pctl',\n",
    "                   'Low Birth Weight Pctl',\n",
    "                   'Unemployment Pctl',\n",
    "                   'Housing Burden Pctl',\n",
    "                   'Pollution Burden Pctl',\n",
    "                   'Drinking Water Pctl',\n",
    "                   'Tox. Release Pctl',\n",
    "                   'Cleanup Sites Pctl',\n",
    "                   'Poverty Pctl',\n",
    "                   'Housing Burden Pctl',\n",
    "                   'Cardiovascular Disease Pctl',\n",
    "                    'oilwell_count']\n",
    "gdfoilCES = gdfoilCES[columnsfull]\n",
    "gdfoilCES.info()"
   ]
  },
  {
   "cell_type": "code",
   "execution_count": null,
   "id": "b5a3e0eb-a476-4b22-b00c-aa8711d149b2",
   "metadata": {},
   "outputs": [],
   "source": [
    "# Check for duplicated column names\n",
    "duplicated_columns = gdfoilCES.columns[gdfoilCES.columns.duplicated()]\n",
    "if len(duplicated_columns) > 0:\n",
    "    print(\"Duplicated columns found:\", duplicated_columns)"
   ]
  },
  {
   "cell_type": "code",
   "execution_count": null,
   "id": "d805dfcd-2993-454d-b862-6f1ef8a96e33",
   "metadata": {},
   "outputs": [],
   "source": [
    "# Drop duplicated columns\n",
    "gdfoilCES = gdfoilCES.drop(columns=duplicated_columns)"
   ]
  },
  {
   "cell_type": "code",
   "execution_count": null,
   "id": "ba27ce10-21d8-4e1f-b977-8a913ea2b919",
   "metadata": {},
   "outputs": [],
   "source": [
    "gdfoilCES.info()"
   ]
  },
  {
   "cell_type": "markdown",
   "id": "b9d871fc-b53c-4084-8ece-9ca31f55e254",
   "metadata": {},
   "source": [
    "## Interactive Map"
   ]
  },
  {
   "cell_type": "markdown",
   "id": "edc6b09d-ef50-46a0-afa2-1e11c96aeb92",
   "metadata": {},
   "source": [
    "This is a view zoomed into the area surrounding Inglewood."
   ]
  },
  {
   "cell_type": "code",
   "execution_count": null,
   "id": "b739b3b4-b55e-4e80-b118-45a43c51b550",
   "metadata": {},
   "outputs": [],
   "source": [
    "import folium\n",
    "\n",
    "# add empty folium map\n",
    "m = folium.Map(location=[33.9617, -118.3531],  # Inglewood, CA coordinates\n",
    "               zoom_start=12,\n",
    "               tiles='CartoDB positron', \n",
    "               attribution='CartoDB')\n",
    "\n",
    "# plot choropleth over the base map\n",
    "folium.Choropleth(\n",
    "                  geo_data=gdfoilCES, # geo data\n",
    "                  data=gdfoilCES, # data          \n",
    "                  key_on='feature.properties.FIPS', # key, or merge column\n",
    "                  columns=['FIPS','CES 4.0 Percentile'], # [key, value]\n",
    "                  fill_color='RdPu',\n",
    "                  nan_fill_color='white',  # set nan_fill_color to 'white' for NaN values\n",
    "                  line_weight=0.1, \n",
    "                  fill_opacity=0.8,\n",
    "                  line_opacity=0.2, # line opacity (of the border)\n",
    "                  legend_name='CES 4.0 Percentile').add_to(m)\n",
    "\n",
    "# create feature group\n",
    "f2=folium.FeatureGroup(name='Oil Wells').add_to(m)\n",
    "\n",
    "# add the wells to the feature group\n",
    "for index, row in gdf_act.iterrows():\n",
    "    folium.Circle(\n",
    "        radius=1,\n",
    "        color=\"black\",\n",
    "        location=[row.Latitude,row.Longitude],\n",
    "        overlay=False).add_to(f2)\n",
    "\n",
    "folium.LayerControl(position='topright',collapsed=True, autoZIndex=True).add_to(m)\n",
    "\n",
    "m"
   ]
  },
  {
   "cell_type": "markdown",
   "id": "bfb02a4b-0c5a-4598-a6db-aeb0bce66703",
   "metadata": {},
   "source": [
    "This is a view zoomed into the area surrounding Beverly Hills."
   ]
  },
  {
   "cell_type": "code",
   "execution_count": null,
   "id": "149e8183-c9f9-49e2-8743-5775f82de8d3",
   "metadata": {},
   "outputs": [],
   "source": [
    "import folium\n",
    "\n",
    "# add empty folium map\n",
    "m = folium.Map(location=[34.0736, -118.4004],  # Beverly Hills, CA coordinates\n",
    "               zoom_start=13,\n",
    "               tiles='CartoDB positron', \n",
    "               attribution='CartoDB')\n",
    "\n",
    "# plot choropleth over the base map\n",
    "folium.Choropleth(\n",
    "                  geo_data=gdfoilCES, # geo data\n",
    "                  data=gdfoilCES, # data          \n",
    "                  key_on='feature.properties.FIPS', # key, or merge column\n",
    "                  columns=['FIPS','CES 4.0 Percentile'], # [key, value]\n",
    "                  fill_color='Greens',\n",
    "                  nan_fill_color='white',  # set nan_fill_color to 'white' for NaN values\n",
    "                  line_weight=0.1, \n",
    "                  fill_opacity=0.8,\n",
    "                  line_opacity=0.2, # line opacity (of the border)\n",
    "                  legend_name='CES 4.0 Percentile').add_to(m)\n",
    "\n",
    "# create feature group\n",
    "f2=folium.FeatureGroup(name='Oil Wells').add_to(m)\n",
    "\n",
    "# add the wells to the feature group\n",
    "for index, row in gdf_act.iterrows():\n",
    "    folium.Circle(\n",
    "        radius=1,\n",
    "        color=\"black\",\n",
    "        location=[row.Latitude,row.Longitude],\n",
    "        overlay=False).add_to(f2)\n",
    "\n",
    "folium.LayerControl(position='topright',collapsed=True, autoZIndex=True).add_to(m)\n",
    "\n",
    "m"
   ]
  },
  {
   "cell_type": "code",
   "execution_count": null,
   "id": "20644f28-078f-4912-a249-70381ce5ba33",
   "metadata": {},
   "outputs": [],
   "source": []
  }
 ],
 "metadata": {
  "kernelspec": {
   "display_name": "Python 3 (ipykernel)",
   "language": "python",
   "name": "python3"
  },
  "language_info": {
   "codemirror_mode": {
    "name": "ipython",
    "version": 3
   },
   "file_extension": ".py",
   "mimetype": "text/x-python",
   "name": "python",
   "nbconvert_exporter": "python",
   "pygments_lexer": "ipython3",
   "version": "3.11.7"
  }
 },
 "nbformat": 4,
 "nbformat_minor": 5
}
