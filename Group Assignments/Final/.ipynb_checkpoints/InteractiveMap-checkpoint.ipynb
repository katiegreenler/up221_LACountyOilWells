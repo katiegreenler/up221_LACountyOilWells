{
 "cells": [
  {
   "cell_type": "code",
   "execution_count": 8,
   "id": "82ca387f-211a-4bbc-85eb-019f723cfa63",
   "metadata": {},
   "outputs": [],
   "source": [
    "import pandas as pd\n",
    "import geopandas as gpd"
   ]
  },
  {
   "cell_type": "code",
   "execution_count": 9,
   "id": "ac01c968-14fc-42e2-8c75-3719da2053e1",
   "metadata": {},
   "outputs": [],
   "source": [
    "import folium"
   ]
  },
  {
   "cell_type": "code",
   "execution_count": 14,
   "id": "563e6ae5-0a53-4b2f-96da-90a77db41253",
   "metadata": {},
   "outputs": [
    {
     "ename": "FileNotFoundError",
     "evalue": "[Errno 2] No such file or directory: './Data/Calenviroscreen4.csv'",
     "output_type": "error",
     "traceback": [
      "\u001b[0;31m---------------------------------------------------------------------------\u001b[0m",
      "\u001b[0;31mFileNotFoundError\u001b[0m                         Traceback (most recent call last)",
      "Cell \u001b[0;32mIn[14], line 1\u001b[0m\n\u001b[0;32m----> 1\u001b[0m df \u001b[38;5;241m=\u001b[39m \u001b[43mpd\u001b[49m\u001b[38;5;241;43m.\u001b[39;49m\u001b[43mread_csv\u001b[49m\u001b[43m(\u001b[49m\u001b[38;5;124;43m\"\u001b[39;49m\u001b[38;5;124;43m./Data/Calenviroscreen4.csv\u001b[39;49m\u001b[38;5;124;43m\"\u001b[39;49m\u001b[43m,\u001b[49m\u001b[43m \u001b[49m\u001b[43mdtype\u001b[49m\u001b[38;5;241;43m=\u001b[39;49m\u001b[43m{\u001b[49m\n\u001b[1;32m      2\u001b[0m \u001b[43m    \u001b[49m\u001b[38;5;124;43m'\u001b[39;49m\u001b[38;5;124;43mCensus Tract\u001b[39;49m\u001b[38;5;124;43m'\u001b[39;49m\u001b[43m:\u001b[49m\u001b[43m \u001b[49m\u001b[38;5;28;43mstr\u001b[39;49m\u001b[43m,\u001b[49m\n\u001b[1;32m      3\u001b[0m \u001b[43m    \u001b[49m\u001b[38;5;124;43m'\u001b[39;49m\u001b[38;5;124;43mCalifornia County\u001b[39;49m\u001b[38;5;124;43m'\u001b[39;49m\u001b[43m:\u001b[49m\u001b[43m \u001b[49m\u001b[38;5;28;43mstr\u001b[39;49m\u001b[43m,\u001b[49m\n\u001b[1;32m      4\u001b[0m \u001b[43m    \u001b[49m\u001b[38;5;124;43m'\u001b[39;49m\u001b[38;5;124;43mApproximate Location\u001b[39;49m\u001b[38;5;124;43m'\u001b[39;49m\u001b[43m:\u001b[49m\u001b[43m \u001b[49m\u001b[38;5;28;43mstr\u001b[39;49m\n\u001b[1;32m      5\u001b[0m \u001b[43m}\u001b[49m\u001b[43m)\u001b[49m\n\u001b[1;32m      6\u001b[0m df\u001b[38;5;241m.\u001b[39mhead()\n",
      "File \u001b[0;32m/opt/conda/lib/python3.11/site-packages/pandas/io/parsers/readers.py:948\u001b[0m, in \u001b[0;36mread_csv\u001b[0;34m(filepath_or_buffer, sep, delimiter, header, names, index_col, usecols, dtype, engine, converters, true_values, false_values, skipinitialspace, skiprows, skipfooter, nrows, na_values, keep_default_na, na_filter, verbose, skip_blank_lines, parse_dates, infer_datetime_format, keep_date_col, date_parser, date_format, dayfirst, cache_dates, iterator, chunksize, compression, thousands, decimal, lineterminator, quotechar, quoting, doublequote, escapechar, comment, encoding, encoding_errors, dialect, on_bad_lines, delim_whitespace, low_memory, memory_map, float_precision, storage_options, dtype_backend)\u001b[0m\n\u001b[1;32m    935\u001b[0m kwds_defaults \u001b[38;5;241m=\u001b[39m _refine_defaults_read(\n\u001b[1;32m    936\u001b[0m     dialect,\n\u001b[1;32m    937\u001b[0m     delimiter,\n\u001b[0;32m   (...)\u001b[0m\n\u001b[1;32m    944\u001b[0m     dtype_backend\u001b[38;5;241m=\u001b[39mdtype_backend,\n\u001b[1;32m    945\u001b[0m )\n\u001b[1;32m    946\u001b[0m kwds\u001b[38;5;241m.\u001b[39mupdate(kwds_defaults)\n\u001b[0;32m--> 948\u001b[0m \u001b[38;5;28;01mreturn\u001b[39;00m \u001b[43m_read\u001b[49m\u001b[43m(\u001b[49m\u001b[43mfilepath_or_buffer\u001b[49m\u001b[43m,\u001b[49m\u001b[43m \u001b[49m\u001b[43mkwds\u001b[49m\u001b[43m)\u001b[49m\n",
      "File \u001b[0;32m/opt/conda/lib/python3.11/site-packages/pandas/io/parsers/readers.py:611\u001b[0m, in \u001b[0;36m_read\u001b[0;34m(filepath_or_buffer, kwds)\u001b[0m\n\u001b[1;32m    608\u001b[0m _validate_names(kwds\u001b[38;5;241m.\u001b[39mget(\u001b[38;5;124m\"\u001b[39m\u001b[38;5;124mnames\u001b[39m\u001b[38;5;124m\"\u001b[39m, \u001b[38;5;28;01mNone\u001b[39;00m))\n\u001b[1;32m    610\u001b[0m \u001b[38;5;66;03m# Create the parser.\u001b[39;00m\n\u001b[0;32m--> 611\u001b[0m parser \u001b[38;5;241m=\u001b[39m \u001b[43mTextFileReader\u001b[49m\u001b[43m(\u001b[49m\u001b[43mfilepath_or_buffer\u001b[49m\u001b[43m,\u001b[49m\u001b[43m \u001b[49m\u001b[38;5;241;43m*\u001b[39;49m\u001b[38;5;241;43m*\u001b[39;49m\u001b[43mkwds\u001b[49m\u001b[43m)\u001b[49m\n\u001b[1;32m    613\u001b[0m \u001b[38;5;28;01mif\u001b[39;00m chunksize \u001b[38;5;129;01mor\u001b[39;00m iterator:\n\u001b[1;32m    614\u001b[0m     \u001b[38;5;28;01mreturn\u001b[39;00m parser\n",
      "File \u001b[0;32m/opt/conda/lib/python3.11/site-packages/pandas/io/parsers/readers.py:1448\u001b[0m, in \u001b[0;36mTextFileReader.__init__\u001b[0;34m(self, f, engine, **kwds)\u001b[0m\n\u001b[1;32m   1445\u001b[0m     \u001b[38;5;28mself\u001b[39m\u001b[38;5;241m.\u001b[39moptions[\u001b[38;5;124m\"\u001b[39m\u001b[38;5;124mhas_index_names\u001b[39m\u001b[38;5;124m\"\u001b[39m] \u001b[38;5;241m=\u001b[39m kwds[\u001b[38;5;124m\"\u001b[39m\u001b[38;5;124mhas_index_names\u001b[39m\u001b[38;5;124m\"\u001b[39m]\n\u001b[1;32m   1447\u001b[0m \u001b[38;5;28mself\u001b[39m\u001b[38;5;241m.\u001b[39mhandles: IOHandles \u001b[38;5;241m|\u001b[39m \u001b[38;5;28;01mNone\u001b[39;00m \u001b[38;5;241m=\u001b[39m \u001b[38;5;28;01mNone\u001b[39;00m\n\u001b[0;32m-> 1448\u001b[0m \u001b[38;5;28mself\u001b[39m\u001b[38;5;241m.\u001b[39m_engine \u001b[38;5;241m=\u001b[39m \u001b[38;5;28;43mself\u001b[39;49m\u001b[38;5;241;43m.\u001b[39;49m\u001b[43m_make_engine\u001b[49m\u001b[43m(\u001b[49m\u001b[43mf\u001b[49m\u001b[43m,\u001b[49m\u001b[43m \u001b[49m\u001b[38;5;28;43mself\u001b[39;49m\u001b[38;5;241;43m.\u001b[39;49m\u001b[43mengine\u001b[49m\u001b[43m)\u001b[49m\n",
      "File \u001b[0;32m/opt/conda/lib/python3.11/site-packages/pandas/io/parsers/readers.py:1705\u001b[0m, in \u001b[0;36mTextFileReader._make_engine\u001b[0;34m(self, f, engine)\u001b[0m\n\u001b[1;32m   1703\u001b[0m     \u001b[38;5;28;01mif\u001b[39;00m \u001b[38;5;124m\"\u001b[39m\u001b[38;5;124mb\u001b[39m\u001b[38;5;124m\"\u001b[39m \u001b[38;5;129;01mnot\u001b[39;00m \u001b[38;5;129;01min\u001b[39;00m mode:\n\u001b[1;32m   1704\u001b[0m         mode \u001b[38;5;241m+\u001b[39m\u001b[38;5;241m=\u001b[39m \u001b[38;5;124m\"\u001b[39m\u001b[38;5;124mb\u001b[39m\u001b[38;5;124m\"\u001b[39m\n\u001b[0;32m-> 1705\u001b[0m \u001b[38;5;28mself\u001b[39m\u001b[38;5;241m.\u001b[39mhandles \u001b[38;5;241m=\u001b[39m \u001b[43mget_handle\u001b[49m\u001b[43m(\u001b[49m\n\u001b[1;32m   1706\u001b[0m \u001b[43m    \u001b[49m\u001b[43mf\u001b[49m\u001b[43m,\u001b[49m\n\u001b[1;32m   1707\u001b[0m \u001b[43m    \u001b[49m\u001b[43mmode\u001b[49m\u001b[43m,\u001b[49m\n\u001b[1;32m   1708\u001b[0m \u001b[43m    \u001b[49m\u001b[43mencoding\u001b[49m\u001b[38;5;241;43m=\u001b[39;49m\u001b[38;5;28;43mself\u001b[39;49m\u001b[38;5;241;43m.\u001b[39;49m\u001b[43moptions\u001b[49m\u001b[38;5;241;43m.\u001b[39;49m\u001b[43mget\u001b[49m\u001b[43m(\u001b[49m\u001b[38;5;124;43m\"\u001b[39;49m\u001b[38;5;124;43mencoding\u001b[39;49m\u001b[38;5;124;43m\"\u001b[39;49m\u001b[43m,\u001b[49m\u001b[43m \u001b[49m\u001b[38;5;28;43;01mNone\u001b[39;49;00m\u001b[43m)\u001b[49m\u001b[43m,\u001b[49m\n\u001b[1;32m   1709\u001b[0m \u001b[43m    \u001b[49m\u001b[43mcompression\u001b[49m\u001b[38;5;241;43m=\u001b[39;49m\u001b[38;5;28;43mself\u001b[39;49m\u001b[38;5;241;43m.\u001b[39;49m\u001b[43moptions\u001b[49m\u001b[38;5;241;43m.\u001b[39;49m\u001b[43mget\u001b[49m\u001b[43m(\u001b[49m\u001b[38;5;124;43m\"\u001b[39;49m\u001b[38;5;124;43mcompression\u001b[39;49m\u001b[38;5;124;43m\"\u001b[39;49m\u001b[43m,\u001b[49m\u001b[43m \u001b[49m\u001b[38;5;28;43;01mNone\u001b[39;49;00m\u001b[43m)\u001b[49m\u001b[43m,\u001b[49m\n\u001b[1;32m   1710\u001b[0m \u001b[43m    \u001b[49m\u001b[43mmemory_map\u001b[49m\u001b[38;5;241;43m=\u001b[39;49m\u001b[38;5;28;43mself\u001b[39;49m\u001b[38;5;241;43m.\u001b[39;49m\u001b[43moptions\u001b[49m\u001b[38;5;241;43m.\u001b[39;49m\u001b[43mget\u001b[49m\u001b[43m(\u001b[49m\u001b[38;5;124;43m\"\u001b[39;49m\u001b[38;5;124;43mmemory_map\u001b[39;49m\u001b[38;5;124;43m\"\u001b[39;49m\u001b[43m,\u001b[49m\u001b[43m \u001b[49m\u001b[38;5;28;43;01mFalse\u001b[39;49;00m\u001b[43m)\u001b[49m\u001b[43m,\u001b[49m\n\u001b[1;32m   1711\u001b[0m \u001b[43m    \u001b[49m\u001b[43mis_text\u001b[49m\u001b[38;5;241;43m=\u001b[39;49m\u001b[43mis_text\u001b[49m\u001b[43m,\u001b[49m\n\u001b[1;32m   1712\u001b[0m \u001b[43m    \u001b[49m\u001b[43merrors\u001b[49m\u001b[38;5;241;43m=\u001b[39;49m\u001b[38;5;28;43mself\u001b[39;49m\u001b[38;5;241;43m.\u001b[39;49m\u001b[43moptions\u001b[49m\u001b[38;5;241;43m.\u001b[39;49m\u001b[43mget\u001b[49m\u001b[43m(\u001b[49m\u001b[38;5;124;43m\"\u001b[39;49m\u001b[38;5;124;43mencoding_errors\u001b[39;49m\u001b[38;5;124;43m\"\u001b[39;49m\u001b[43m,\u001b[49m\u001b[43m \u001b[49m\u001b[38;5;124;43m\"\u001b[39;49m\u001b[38;5;124;43mstrict\u001b[39;49m\u001b[38;5;124;43m\"\u001b[39;49m\u001b[43m)\u001b[49m\u001b[43m,\u001b[49m\n\u001b[1;32m   1713\u001b[0m \u001b[43m    \u001b[49m\u001b[43mstorage_options\u001b[49m\u001b[38;5;241;43m=\u001b[39;49m\u001b[38;5;28;43mself\u001b[39;49m\u001b[38;5;241;43m.\u001b[39;49m\u001b[43moptions\u001b[49m\u001b[38;5;241;43m.\u001b[39;49m\u001b[43mget\u001b[49m\u001b[43m(\u001b[49m\u001b[38;5;124;43m\"\u001b[39;49m\u001b[38;5;124;43mstorage_options\u001b[39;49m\u001b[38;5;124;43m\"\u001b[39;49m\u001b[43m,\u001b[49m\u001b[43m \u001b[49m\u001b[38;5;28;43;01mNone\u001b[39;49;00m\u001b[43m)\u001b[49m\u001b[43m,\u001b[49m\n\u001b[1;32m   1714\u001b[0m \u001b[43m\u001b[49m\u001b[43m)\u001b[49m\n\u001b[1;32m   1715\u001b[0m \u001b[38;5;28;01massert\u001b[39;00m \u001b[38;5;28mself\u001b[39m\u001b[38;5;241m.\u001b[39mhandles \u001b[38;5;129;01mis\u001b[39;00m \u001b[38;5;129;01mnot\u001b[39;00m \u001b[38;5;28;01mNone\u001b[39;00m\n\u001b[1;32m   1716\u001b[0m f \u001b[38;5;241m=\u001b[39m \u001b[38;5;28mself\u001b[39m\u001b[38;5;241m.\u001b[39mhandles\u001b[38;5;241m.\u001b[39mhandle\n",
      "File \u001b[0;32m/opt/conda/lib/python3.11/site-packages/pandas/io/common.py:863\u001b[0m, in \u001b[0;36mget_handle\u001b[0;34m(path_or_buf, mode, encoding, compression, memory_map, is_text, errors, storage_options)\u001b[0m\n\u001b[1;32m    858\u001b[0m \u001b[38;5;28;01melif\u001b[39;00m \u001b[38;5;28misinstance\u001b[39m(handle, \u001b[38;5;28mstr\u001b[39m):\n\u001b[1;32m    859\u001b[0m     \u001b[38;5;66;03m# Check whether the filename is to be opened in binary mode.\u001b[39;00m\n\u001b[1;32m    860\u001b[0m     \u001b[38;5;66;03m# Binary mode does not support 'encoding' and 'newline'.\u001b[39;00m\n\u001b[1;32m    861\u001b[0m     \u001b[38;5;28;01mif\u001b[39;00m ioargs\u001b[38;5;241m.\u001b[39mencoding \u001b[38;5;129;01mand\u001b[39;00m \u001b[38;5;124m\"\u001b[39m\u001b[38;5;124mb\u001b[39m\u001b[38;5;124m\"\u001b[39m \u001b[38;5;129;01mnot\u001b[39;00m \u001b[38;5;129;01min\u001b[39;00m ioargs\u001b[38;5;241m.\u001b[39mmode:\n\u001b[1;32m    862\u001b[0m         \u001b[38;5;66;03m# Encoding\u001b[39;00m\n\u001b[0;32m--> 863\u001b[0m         handle \u001b[38;5;241m=\u001b[39m \u001b[38;5;28mopen\u001b[39m(\n\u001b[1;32m    864\u001b[0m             handle,\n\u001b[1;32m    865\u001b[0m             ioargs\u001b[38;5;241m.\u001b[39mmode,\n\u001b[1;32m    866\u001b[0m             encoding\u001b[38;5;241m=\u001b[39mioargs\u001b[38;5;241m.\u001b[39mencoding,\n\u001b[1;32m    867\u001b[0m             errors\u001b[38;5;241m=\u001b[39merrors,\n\u001b[1;32m    868\u001b[0m             newline\u001b[38;5;241m=\u001b[39m\u001b[38;5;124m\"\u001b[39m\u001b[38;5;124m\"\u001b[39m,\n\u001b[1;32m    869\u001b[0m         )\n\u001b[1;32m    870\u001b[0m     \u001b[38;5;28;01melse\u001b[39;00m:\n\u001b[1;32m    871\u001b[0m         \u001b[38;5;66;03m# Binary mode\u001b[39;00m\n\u001b[1;32m    872\u001b[0m         handle \u001b[38;5;241m=\u001b[39m \u001b[38;5;28mopen\u001b[39m(handle, ioargs\u001b[38;5;241m.\u001b[39mmode)\n",
      "\u001b[0;31mFileNotFoundError\u001b[0m: [Errno 2] No such file or directory: './Data/Calenviroscreen4.csv'"
     ]
    }
   ],
   "source": [
    "df = pd.read_csv(\"./Data/Calenviroscreen4.csv\", dtype={\n",
    "    'Census Tract': str,\n",
    "    'California County': str,\n",
    "    'Approximate Location': str\n",
    "})\n",
    "df.head()"
   ]
  },
  {
   "cell_type": "code",
   "execution_count": null,
   "id": "d3355d72-8aea-4ff3-a14e-dc907d96548b",
   "metadata": {},
   "outputs": [],
   "source": [
    "df['Census Tract'] = df['Census Tract'].str.zfill(11)"
   ]
  },
  {
   "cell_type": "code",
   "execution_count": null,
   "id": "096e2b31-1f95-4e2e-bd48-155e881dd95e",
   "metadata": {},
   "outputs": [],
   "source": [
    "df.info()"
   ]
  },
  {
   "cell_type": "code",
   "execution_count": null,
   "id": "b28935ca-6007-4dce-9350-a14f6caccc39",
   "metadata": {},
   "outputs": [],
   "source": [
    "columns_to_keep = ['Census Tract',\n",
    "                   'Total Population',\n",
    "                   'California County',\n",
    "                   'Approximate Location',\n",
    "                   'CES 4.0 Score',\n",
    "                   'CES 4.0 Percentile',\n",
    "                   'CES 4.0 Percentile Range',\n",
    "                   'PM2.5 Pctl',\n",
    "                   'Groundwater Threats Pctl',\n",
    "                   'Asthma Pctl',\n",
    "                   'Low Birth Weight Pctl',\n",
    "                   'Unemployment Pctl',\n",
    "                   'Housing Burden Pctl',\n",
    "                   'Pollution Burden Pctl',\n",
    "                   'Drinking Water Pctl',\n",
    "                   'Tox. Release Pctl',\n",
    "                   'Cleanup Sites Pctl',\n",
    "                   'Poverty Pctl',\n",
    "                   'Housing Burden Pctl',\n",
    "                   'Cardiovascular Disease Pctl']\n",
    "df2 = df[columns_to_keep]\n",
    "df2.info"
   ]
  },
  {
   "cell_type": "code",
   "execution_count": null,
   "id": "79bc67fe-b290-405a-81b0-b2cde7db3c3a",
   "metadata": {},
   "outputs": [],
   "source": [
    "df2LA = df2[df2['California County'] == 'Los Angeles']"
   ]
  },
  {
   "cell_type": "code",
   "execution_count": null,
   "id": "db6a7143-010f-42be-aada-ad7285888f1b",
   "metadata": {},
   "outputs": [],
   "source": [
    "df2LA.rename(columns = {'Census Tract':'FIPS'}, inplace = True) "
   ]
  },
  {
   "cell_type": "code",
   "execution_count": null,
   "id": "f154843f-987b-4ae9-a192-e3256c62a4d4",
   "metadata": {},
   "outputs": [],
   "source": [
    "df2LA.info()"
   ]
  },
  {
   "cell_type": "code",
   "execution_count": null,
   "id": "c54376d9-9d2a-4e00-934e-a24df2d7c4c3",
   "metadata": {},
   "outputs": [],
   "source": [
    "tracts = gpd.read_file('2020_Census_Tracts.geojson')\n",
    "tracts.head()"
   ]
  },
  {
   "cell_type": "code",
   "execution_count": null,
   "id": "21b1f4ef-71f5-47b8-8e8b-55db98b91090",
   "metadata": {},
   "outputs": [],
   "source": [
    "tracts['FIPS'] ='06' + '037' + tracts['CT20']"
   ]
  },
  {
   "cell_type": "code",
   "execution_count": null,
   "id": "c2202618-be7f-4c71-b769-9ad924eee168",
   "metadata": {},
   "outputs": [],
   "source": [
    "CEStracts=tracts.merge(df2LA,on='FIPS')"
   ]
  },
  {
   "cell_type": "code",
   "execution_count": null,
   "id": "5f2f0ffc-b686-42a1-a695-6825a159fa96",
   "metadata": {},
   "outputs": [],
   "source": [
    "CEStracts.crs"
   ]
  },
  {
   "cell_type": "code",
   "execution_count": null,
   "id": "d8d254a3-5039-4cc9-aaf1-2dfdd361716f",
   "metadata": {},
   "outputs": [],
   "source": [
    "dfoil = pd.read_csv('Oil_Wells.csv')"
   ]
  },
  {
   "cell_type": "code",
   "execution_count": null,
   "id": "2767233f-7c67-4d19-a185-44d2066f04a4",
   "metadata": {},
   "outputs": [],
   "source": [
    "df_act = dfoil.drop(dfoil[dfoil['WellStatus'] != 'A'].index)"
   ]
  },
  {
   "cell_type": "code",
   "execution_count": null,
   "id": "dff2a7dd-6981-43af-9b32-5ec48a795578",
   "metadata": {},
   "outputs": [],
   "source": [
    "gdf_act = gpd.GeoDataFrame(df_act, \n",
    "                       crs='epsg:4326',\n",
    "                       geometry=gpd.points_from_xy(df_act.Longitude, df_act.Latitude))"
   ]
  },
  {
   "cell_type": "code",
   "execution_count": null,
   "id": "8dde10b6-319a-4b34-827d-b99693248a69",
   "metadata": {},
   "outputs": [],
   "source": [
    "# Perform a spatial join based on geographic coordinates\n",
    "gdfoilCES = gpd.sjoin(gdf_act, CEStracts, how='right', op='within')\n",
    "gdfoilCES.head()"
   ]
  },
  {
   "cell_type": "code",
   "execution_count": null,
   "id": "6eadedd2-74f9-499c-a5fa-b212d881716a",
   "metadata": {},
   "outputs": [],
   "source": [
    "gdfoilCES.info()"
   ]
  },
  {
   "cell_type": "code",
   "execution_count": null,
   "id": "8df684af-c8e9-46f5-8d66-0f11d113c0d7",
   "metadata": {},
   "outputs": [],
   "source": [
    "oilwellsbytract = gdfoilCES.FIPS.value_counts().rename_axis('FIPS').reset_index(name='oilwell_count')"
   ]
  },
  {
   "cell_type": "code",
   "execution_count": null,
   "id": "c830b18d-ce02-41ba-bd1b-aa882828ae9f",
   "metadata": {},
   "outputs": [],
   "source": [
    "oilwellsbytract.info()"
   ]
  },
  {
   "cell_type": "code",
   "execution_count": null,
   "id": "d6b35adc-bd47-4d63-b751-883a6705165e",
   "metadata": {},
   "outputs": [],
   "source": [
    "# join the summary table back to the gdf\n",
    "gdfoilCES=gdfoilCES.merge(oilwellsbytract,on='FIPS')"
   ]
  },
  {
   "cell_type": "code",
   "execution_count": null,
   "id": "f2a0290c-e298-41e2-b62c-6b306aa475b8",
   "metadata": {},
   "outputs": [],
   "source": [
    "gdfoilCES.info()"
   ]
  },
  {
   "cell_type": "code",
   "execution_count": null,
   "id": "33478e6c-5ebb-4363-a87a-fb3b6339cd89",
   "metadata": {},
   "outputs": [],
   "source": [
    "gdfoilCES.head()"
   ]
  },
  {
   "cell_type": "code",
   "execution_count": null,
   "id": "78a25caf-157e-401a-a988-ebb6c6a688ef",
   "metadata": {},
   "outputs": [],
   "source": [
    "# Check for duplicated column names\n",
    "duplicated_columns = gdfoilCES.columns[gdfoilCES.columns.duplicated()]\n",
    "if len(duplicated_columns) > 0:\n",
    "    print(\"Duplicated columns found:\", duplicated_columns)\n",
    "    # Drop duplicated columns or rename them to make them unique\n",
    "    # For example:\n",
    "    # gdfoilCES = gdfoilCES.drop(columns=duplicated_columns)\n",
    "    # Or rename duplicated columns:\n",
    "    # gdfoilCES = gdfoilCES.rename(columns={'duplicate_column': 'new_name'})\n"
   ]
  },
  {
   "cell_type": "code",
   "execution_count": null,
   "id": "12c3155e-6e48-44d7-ada2-510107ab2504",
   "metadata": {},
   "outputs": [],
   "source": [
    "# add empty folium map\n",
    "m = folium.Map(location=[34.2,-118.2], \n",
    "               zoom_start = 9,\n",
    "               tiles='CartoDB positron', \n",
    "               attribution='CartoDB')\n",
    "\n",
    "# plot chorpleth over the base map\n",
    "folium.Choropleth(\n",
    "                  geo_data=gdfoilCES, # geo data\n",
    "                  data=gdfoilCES, # data          \n",
    "                  key_on='feature.properties.FIPS', # key, or merge column\n",
    "                  columns=['FIPS','CES 4.0 Score'], # [key, value]\n",
    "                  fill_color='Oranges',\n",
    "                  line_weight=0.1, \n",
    "                  fill_opacity=0.8,\n",
    "                  line_opacity=0.2, # line opacity (of the border)\n",
    "                  legend_name='Extremely Low Income Households (2022)').add_to(m)\n",
    "\n",
    "# create feature group\n",
    "f2=folium.FeatureGroup(name='Oil Wells').add_to(m)\n",
    "\n",
    "# add the wells to the feature group\n",
    "for index, row in gdf_act.iterrows():\n",
    "    folium.Circle(\n",
    "        radius=1,\n",
    "        color=\"black\",\n",
    "        location=[row.Latitude,row.Longitude],\n",
    "        overlay=False).add_to(f2)\n",
    "\n",
    "folium.LayerControl(position='topright',collapsed=True, autoZIndex=True).add_to(m)\n",
    "\n",
    "m"
   ]
  }
 ],
 "metadata": {
  "kernelspec": {
   "display_name": "Python 3 (ipykernel)",
   "language": "python",
   "name": "python3"
  },
  "language_info": {
   "codemirror_mode": {
    "name": "ipython",
    "version": 3
   },
   "file_extension": ".py",
   "mimetype": "text/x-python",
   "name": "python",
   "nbconvert_exporter": "python",
   "pygments_lexer": "ipython3",
   "version": "3.11.7"
  }
 },
 "nbformat": 4,
 "nbformat_minor": 5
}
